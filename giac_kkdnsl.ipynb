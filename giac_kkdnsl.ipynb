{
  "nbformat": 4,
  "nbformat_minor": 0,
  "metadata": {
    "colab": {
      "name": "giac_kkdnsl.ipynb",
      "provenance": [],
      "collapsed_sections": [
        "o2H9aaujHSko",
        "ibOmPZChZsaP",
        "ay_MIeOZQD7n"
      ]
    },
    "kernelspec": {
      "display_name": "Python 3",
      "name": "python3"
    }
  },
  "cells": [
    {
      "cell_type": "markdown",
      "metadata": {
        "id": "r2zhjL3XMUn_"
      },
      "source": [
        "# **Abstract**\n",
        "\n",
        "This paper aims to equip intrusion analysts with the basic techniques needed to apply machine learning to intrusion detection. It will first describe the different approaches to machine learning-based classification (e.g., logistic regression, support vector machines), so readers will gain some basic understanding of underlying algorithms that will be useful during model selection and parameter adjustment. It will also describe methods of data preprocessing, model training and testing.\n",
        "\n",
        "This paper then describes experiments carried out on a dataset (NSL-KDD) which is widely used for the testing of intrusion detection algorithms. Two sets of experiments are carried out 1) application of commonly-used machine learning based classification models and 2) application of methods widely-used to improve model performance (e.g., boosting, bagging, stacking, and automatic learning of features)."
      ]
    },
    {
      "cell_type": "markdown",
      "metadata": {
        "id": "VRmfRSZSMpbm"
      },
      "source": [
        "# **Introduction**\n",
        "\n",
        "With brief desciptions of key machine learning models and sample code illustrating how they can be applied to network data, this paper aims to equip intrusion analysts"
      ]
    },
    {
      "cell_type": "code",
      "metadata": {
        "id": "vjWv89lrFNU1"
      },
      "source": [
        "from tensorflow.keras.layers import Input, Dense, BatchNormalization, Dropout, Concatenate, Lambda, GaussianNoise, Activation, Embedding, concatenate, Flatten\n",
        "from tensorflow.keras.models import Model, Sequential\n",
        "from tensorflow.keras.losses import BinaryCrossentropy\n",
        "from tensorflow.keras.optimizers import Adam\n",
        "from tensorflow.keras.callbacks import EarlyStopping\n",
        "from tensorflow.keras.layers.experimental.preprocessing import Normalization\n",
        "from tensorflow.keras.callbacks import Callback, EarlyStopping, ModelCheckpoint, ReduceLROnPlateau\n",
        "import tensorflow as tf\n",
        "import numpy as np\n",
        "import pandas as pd\n",
        "from sklearn.model_selection import GroupKFold\n",
        "\n",
        "# processing imports\n",
        "# module imports\n",
        "import numpy as np \n",
        "import pandas as pd \n",
        "import matplotlib.pyplot as plt\n",
        "import seaborn as sns\n",
        "import itertools\n",
        "import random\n",
        "\n",
        "# model imports\n",
        "from sklearn.linear_model import LogisticRegression\n",
        "from sklearn.svm import SVC\n",
        "\n",
        "# processing imports\n",
        "from sklearn.preprocessing import LabelEncoder\n",
        "from sklearn.preprocessing import StandardScaler\n",
        "from sklearn.preprocessing import MinMaxScaler\n",
        "from sklearn.model_selection import train_test_split\n",
        "from sklearn.model_selection import cross_val_score\n",
        "from sklearn.metrics import mean_absolute_error\n",
        "from sklearn.metrics import accuracy_score, f1_score, precision_score, recall_score, classification_report, confusion_matrix\n",
        "from sklearn.pipeline import make_pipeline\n",
        "from sklearn.pipeline import Pipeline"
      ],
      "execution_count": null,
      "outputs": []
    },
    {
      "cell_type": "code",
      "metadata": {
        "id": "bK5euZt9H-UR"
      },
      "source": [
        "from sklearn import linear_model\n",
        "\n",
        "from sklearn.ensemble import VotingClassifier\n",
        "\n",
        "from sklearn.ensemble import AdaBoostClassifier\n",
        "from sklearn.ensemble import RandomForestClassifier\n",
        "from sklearn.ensemble import BaggingClassifier\n",
        "from sklearn.ensemble import ExtraTreesClassifier\n",
        "from sklearn.ensemble import GradientBoostingClassifier\n",
        "from sklearn.ensemble import IsolationForest\n",
        "\n",
        "from sklearn.svm import SVC, LinearSVC\n",
        "from sklearn.tree import DecisionTreeClassifier"
      ],
      "execution_count": null,
      "outputs": []
    },
    {
      "cell_type": "code",
      "metadata": {
        "id": "XX_aHnoYFTTX"
      },
      "source": [
        "SPLIT = 0"
      ],
      "execution_count": null,
      "outputs": []
    },
    {
      "cell_type": "code",
      "metadata": {
        "colab": {
          "base_uri": "https://localhost:8080/"
        },
        "id": "dU-emH6FGGla",
        "outputId": "3a971520-38b6-479d-945a-8ee20a8eb8af"
      },
      "source": [
        "print(\"TensorFlow version:\", tf.__version__)"
      ],
      "execution_count": null,
      "outputs": [
        {
          "output_type": "stream",
          "text": [
            "TensorFlow version: 2.4.1\n"
          ],
          "name": "stdout"
        }
      ]
    },
    {
      "cell_type": "code",
      "metadata": {
        "colab": {
          "base_uri": "https://localhost:8080/"
        },
        "id": "F34Wd6-gGKLK",
        "outputId": "d2dfeae0-a27e-42ca-ab45-10c1829317dd"
      },
      "source": [
        "from google.colab import drive\n",
        "drive.mount('/content/drive')"
      ],
      "execution_count": null,
      "outputs": [
        {
          "output_type": "stream",
          "text": [
            "Mounted at /content/drive\n"
          ],
          "name": "stdout"
        }
      ]
    },
    {
      "cell_type": "code",
      "metadata": {
        "id": "_JtKNc0jGLOe"
      },
      "source": [
        "# edit to fetch your data\n",
        "file_path_20_percent = '/content/drive/My Drive/KDDTrain+_20Percent.txt'\n",
        "file_path_full_training_set = '/content/drive/My Drive/KDDTrain+.txt'\n",
        "file_path_test = '/content/drive/My Drive/KDDTest+.txt' \n",
        "\n",
        "train_all = pd.read_csv(file_path_full_training_set)\n",
        "test_all = pd.read_csv(file_path_test)"
      ],
      "execution_count": null,
      "outputs": []
    },
    {
      "cell_type": "code",
      "metadata": {
        "id": "9M4_MANmGP-k",
        "colab": {
          "base_uri": "https://localhost:8080/",
          "height": 220
        },
        "outputId": "231316f8-4dc6-4398-88c7-d31f48b57a4c"
      },
      "source": [
        "# add the column labels\n",
        "columns = (['duration'\n",
        ",'protocol_type'\n",
        ",'service'\n",
        ",'flag'\n",
        ",'src_bytes'\n",
        ",'dst_bytes'\n",
        ",'land'\n",
        ",'wrong_fragment'\n",
        ",'urgent'\n",
        ",'hot'\n",
        ",'num_failed_logins'\n",
        ",'logged_in'\n",
        ",'num_compromised'\n",
        ",'root_shell'\n",
        ",'su_attempted'\n",
        ",'num_root'\n",
        ",'num_file_creations'\n",
        ",'num_shells'\n",
        ",'num_access_files'\n",
        ",'num_outbound_cmds'\n",
        ",'is_host_login'\n",
        ",'is_guest_login'\n",
        ",'count'\n",
        ",'srv_count'\n",
        ",'serror_rate'\n",
        ",'srv_serror_rate'\n",
        ",'rerror_rate'\n",
        ",'srv_rerror_rate'\n",
        ",'same_srv_rate'\n",
        ",'diff_srv_rate'\n",
        ",'srv_diff_host_rate'\n",
        ",'dst_host_count'\n",
        ",'dst_host_srv_count'\n",
        ",'dst_host_same_srv_rate'\n",
        ",'dst_host_diff_srv_rate'\n",
        ",'dst_host_same_src_port_rate'\n",
        ",'dst_host_srv_diff_host_rate'\n",
        ",'dst_host_serror_rate'\n",
        ",'dst_host_srv_serror_rate'\n",
        ",'dst_host_rerror_rate'\n",
        ",'dst_host_srv_rerror_rate'\n",
        ",'attack'\n",
        ",'level'])\n",
        "\n",
        "train_all.columns = columns\n",
        "test_all.columns = columns\n",
        "\n",
        "# sanity check\n",
        "train_all.head()"
      ],
      "execution_count": null,
      "outputs": [
        {
          "output_type": "execute_result",
          "data": {
            "text/html": [
              "<div>\n",
              "<style scoped>\n",
              "    .dataframe tbody tr th:only-of-type {\n",
              "        vertical-align: middle;\n",
              "    }\n",
              "\n",
              "    .dataframe tbody tr th {\n",
              "        vertical-align: top;\n",
              "    }\n",
              "\n",
              "    .dataframe thead th {\n",
              "        text-align: right;\n",
              "    }\n",
              "</style>\n",
              "<table border=\"1\" class=\"dataframe\">\n",
              "  <thead>\n",
              "    <tr style=\"text-align: right;\">\n",
              "      <th></th>\n",
              "      <th>duration</th>\n",
              "      <th>protocol_type</th>\n",
              "      <th>service</th>\n",
              "      <th>flag</th>\n",
              "      <th>src_bytes</th>\n",
              "      <th>dst_bytes</th>\n",
              "      <th>land</th>\n",
              "      <th>wrong_fragment</th>\n",
              "      <th>urgent</th>\n",
              "      <th>hot</th>\n",
              "      <th>num_failed_logins</th>\n",
              "      <th>logged_in</th>\n",
              "      <th>num_compromised</th>\n",
              "      <th>root_shell</th>\n",
              "      <th>su_attempted</th>\n",
              "      <th>num_root</th>\n",
              "      <th>num_file_creations</th>\n",
              "      <th>num_shells</th>\n",
              "      <th>num_access_files</th>\n",
              "      <th>num_outbound_cmds</th>\n",
              "      <th>is_host_login</th>\n",
              "      <th>is_guest_login</th>\n",
              "      <th>count</th>\n",
              "      <th>srv_count</th>\n",
              "      <th>serror_rate</th>\n",
              "      <th>srv_serror_rate</th>\n",
              "      <th>rerror_rate</th>\n",
              "      <th>srv_rerror_rate</th>\n",
              "      <th>same_srv_rate</th>\n",
              "      <th>diff_srv_rate</th>\n",
              "      <th>srv_diff_host_rate</th>\n",
              "      <th>dst_host_count</th>\n",
              "      <th>dst_host_srv_count</th>\n",
              "      <th>dst_host_same_srv_rate</th>\n",
              "      <th>dst_host_diff_srv_rate</th>\n",
              "      <th>dst_host_same_src_port_rate</th>\n",
              "      <th>dst_host_srv_diff_host_rate</th>\n",
              "      <th>dst_host_serror_rate</th>\n",
              "      <th>dst_host_srv_serror_rate</th>\n",
              "      <th>dst_host_rerror_rate</th>\n",
              "      <th>dst_host_srv_rerror_rate</th>\n",
              "      <th>attack</th>\n",
              "      <th>level</th>\n",
              "    </tr>\n",
              "  </thead>\n",
              "  <tbody>\n",
              "    <tr>\n",
              "      <th>0</th>\n",
              "      <td>0</td>\n",
              "      <td>udp</td>\n",
              "      <td>other</td>\n",
              "      <td>SF</td>\n",
              "      <td>146</td>\n",
              "      <td>0</td>\n",
              "      <td>0</td>\n",
              "      <td>0</td>\n",
              "      <td>0</td>\n",
              "      <td>0</td>\n",
              "      <td>0</td>\n",
              "      <td>0</td>\n",
              "      <td>0</td>\n",
              "      <td>0</td>\n",
              "      <td>0</td>\n",
              "      <td>0</td>\n",
              "      <td>0</td>\n",
              "      <td>0</td>\n",
              "      <td>0</td>\n",
              "      <td>0</td>\n",
              "      <td>0</td>\n",
              "      <td>0</td>\n",
              "      <td>13</td>\n",
              "      <td>1</td>\n",
              "      <td>0.0</td>\n",
              "      <td>0.0</td>\n",
              "      <td>0.0</td>\n",
              "      <td>0.0</td>\n",
              "      <td>0.08</td>\n",
              "      <td>0.15</td>\n",
              "      <td>0.00</td>\n",
              "      <td>255</td>\n",
              "      <td>1</td>\n",
              "      <td>0.00</td>\n",
              "      <td>0.60</td>\n",
              "      <td>0.88</td>\n",
              "      <td>0.00</td>\n",
              "      <td>0.00</td>\n",
              "      <td>0.00</td>\n",
              "      <td>0.0</td>\n",
              "      <td>0.00</td>\n",
              "      <td>normal</td>\n",
              "      <td>15</td>\n",
              "    </tr>\n",
              "    <tr>\n",
              "      <th>1</th>\n",
              "      <td>0</td>\n",
              "      <td>tcp</td>\n",
              "      <td>private</td>\n",
              "      <td>S0</td>\n",
              "      <td>0</td>\n",
              "      <td>0</td>\n",
              "      <td>0</td>\n",
              "      <td>0</td>\n",
              "      <td>0</td>\n",
              "      <td>0</td>\n",
              "      <td>0</td>\n",
              "      <td>0</td>\n",
              "      <td>0</td>\n",
              "      <td>0</td>\n",
              "      <td>0</td>\n",
              "      <td>0</td>\n",
              "      <td>0</td>\n",
              "      <td>0</td>\n",
              "      <td>0</td>\n",
              "      <td>0</td>\n",
              "      <td>0</td>\n",
              "      <td>0</td>\n",
              "      <td>123</td>\n",
              "      <td>6</td>\n",
              "      <td>1.0</td>\n",
              "      <td>1.0</td>\n",
              "      <td>0.0</td>\n",
              "      <td>0.0</td>\n",
              "      <td>0.05</td>\n",
              "      <td>0.07</td>\n",
              "      <td>0.00</td>\n",
              "      <td>255</td>\n",
              "      <td>26</td>\n",
              "      <td>0.10</td>\n",
              "      <td>0.05</td>\n",
              "      <td>0.00</td>\n",
              "      <td>0.00</td>\n",
              "      <td>1.00</td>\n",
              "      <td>1.00</td>\n",
              "      <td>0.0</td>\n",
              "      <td>0.00</td>\n",
              "      <td>neptune</td>\n",
              "      <td>19</td>\n",
              "    </tr>\n",
              "    <tr>\n",
              "      <th>2</th>\n",
              "      <td>0</td>\n",
              "      <td>tcp</td>\n",
              "      <td>http</td>\n",
              "      <td>SF</td>\n",
              "      <td>232</td>\n",
              "      <td>8153</td>\n",
              "      <td>0</td>\n",
              "      <td>0</td>\n",
              "      <td>0</td>\n",
              "      <td>0</td>\n",
              "      <td>0</td>\n",
              "      <td>1</td>\n",
              "      <td>0</td>\n",
              "      <td>0</td>\n",
              "      <td>0</td>\n",
              "      <td>0</td>\n",
              "      <td>0</td>\n",
              "      <td>0</td>\n",
              "      <td>0</td>\n",
              "      <td>0</td>\n",
              "      <td>0</td>\n",
              "      <td>0</td>\n",
              "      <td>5</td>\n",
              "      <td>5</td>\n",
              "      <td>0.2</td>\n",
              "      <td>0.2</td>\n",
              "      <td>0.0</td>\n",
              "      <td>0.0</td>\n",
              "      <td>1.00</td>\n",
              "      <td>0.00</td>\n",
              "      <td>0.00</td>\n",
              "      <td>30</td>\n",
              "      <td>255</td>\n",
              "      <td>1.00</td>\n",
              "      <td>0.00</td>\n",
              "      <td>0.03</td>\n",
              "      <td>0.04</td>\n",
              "      <td>0.03</td>\n",
              "      <td>0.01</td>\n",
              "      <td>0.0</td>\n",
              "      <td>0.01</td>\n",
              "      <td>normal</td>\n",
              "      <td>21</td>\n",
              "    </tr>\n",
              "    <tr>\n",
              "      <th>3</th>\n",
              "      <td>0</td>\n",
              "      <td>tcp</td>\n",
              "      <td>http</td>\n",
              "      <td>SF</td>\n",
              "      <td>199</td>\n",
              "      <td>420</td>\n",
              "      <td>0</td>\n",
              "      <td>0</td>\n",
              "      <td>0</td>\n",
              "      <td>0</td>\n",
              "      <td>0</td>\n",
              "      <td>1</td>\n",
              "      <td>0</td>\n",
              "      <td>0</td>\n",
              "      <td>0</td>\n",
              "      <td>0</td>\n",
              "      <td>0</td>\n",
              "      <td>0</td>\n",
              "      <td>0</td>\n",
              "      <td>0</td>\n",
              "      <td>0</td>\n",
              "      <td>0</td>\n",
              "      <td>30</td>\n",
              "      <td>32</td>\n",
              "      <td>0.0</td>\n",
              "      <td>0.0</td>\n",
              "      <td>0.0</td>\n",
              "      <td>0.0</td>\n",
              "      <td>1.00</td>\n",
              "      <td>0.00</td>\n",
              "      <td>0.09</td>\n",
              "      <td>255</td>\n",
              "      <td>255</td>\n",
              "      <td>1.00</td>\n",
              "      <td>0.00</td>\n",
              "      <td>0.00</td>\n",
              "      <td>0.00</td>\n",
              "      <td>0.00</td>\n",
              "      <td>0.00</td>\n",
              "      <td>0.0</td>\n",
              "      <td>0.00</td>\n",
              "      <td>normal</td>\n",
              "      <td>21</td>\n",
              "    </tr>\n",
              "    <tr>\n",
              "      <th>4</th>\n",
              "      <td>0</td>\n",
              "      <td>tcp</td>\n",
              "      <td>private</td>\n",
              "      <td>REJ</td>\n",
              "      <td>0</td>\n",
              "      <td>0</td>\n",
              "      <td>0</td>\n",
              "      <td>0</td>\n",
              "      <td>0</td>\n",
              "      <td>0</td>\n",
              "      <td>0</td>\n",
              "      <td>0</td>\n",
              "      <td>0</td>\n",
              "      <td>0</td>\n",
              "      <td>0</td>\n",
              "      <td>0</td>\n",
              "      <td>0</td>\n",
              "      <td>0</td>\n",
              "      <td>0</td>\n",
              "      <td>0</td>\n",
              "      <td>0</td>\n",
              "      <td>0</td>\n",
              "      <td>121</td>\n",
              "      <td>19</td>\n",
              "      <td>0.0</td>\n",
              "      <td>0.0</td>\n",
              "      <td>1.0</td>\n",
              "      <td>1.0</td>\n",
              "      <td>0.16</td>\n",
              "      <td>0.06</td>\n",
              "      <td>0.00</td>\n",
              "      <td>255</td>\n",
              "      <td>19</td>\n",
              "      <td>0.07</td>\n",
              "      <td>0.07</td>\n",
              "      <td>0.00</td>\n",
              "      <td>0.00</td>\n",
              "      <td>0.00</td>\n",
              "      <td>0.00</td>\n",
              "      <td>1.0</td>\n",
              "      <td>1.00</td>\n",
              "      <td>neptune</td>\n",
              "      <td>21</td>\n",
              "    </tr>\n",
              "  </tbody>\n",
              "</table>\n",
              "</div>"
            ],
            "text/plain": [
              "   duration protocol_type  service  ... dst_host_srv_rerror_rate   attack  level\n",
              "0         0           udp    other  ...                     0.00   normal     15\n",
              "1         0           tcp  private  ...                     0.00  neptune     19\n",
              "2         0           tcp     http  ...                     0.01   normal     21\n",
              "3         0           tcp     http  ...                     0.00   normal     21\n",
              "4         0           tcp  private  ...                     1.00  neptune     21\n",
              "\n",
              "[5 rows x 43 columns]"
            ]
          },
          "metadata": {
            "tags": []
          },
          "execution_count": 4
        }
      ]
    },
    {
      "cell_type": "code",
      "metadata": {
        "id": "4MKftYQ-GRXs"
      },
      "source": [
        "# map normal to 0, all attacks to 1\n",
        "train_all['attack_flag'] = train_all.attack.apply(lambda a: 0 if a == 'normal' else 1)\n",
        "test_all['attack_flag'] = test_all.attack.apply(lambda a: 0 if a == 'normal' else 1)"
      ],
      "execution_count": null,
      "outputs": []
    },
    {
      "cell_type": "code",
      "metadata": {
        "id": "OFdYWQMzGZNr"
      },
      "source": [
        "#cat and num features\n",
        "features_to_encode = ['protocol_type', 'service', 'flag']\n",
        "numeric_features = ['duration', 'src_bytes', 'dst_bytes']"
      ],
      "execution_count": null,
      "outputs": []
    },
    {
      "cell_type": "code",
      "metadata": {
        "id": "ebNNaec6GbEo"
      },
      "source": [
        "# 1 hot encoding\n",
        "encoded = pd.get_dummies(train_all[features_to_encode])\n",
        "test_encoded_base = pd.get_dummies(test_all[features_to_encode])\n",
        "\n",
        "# not all of the features are in the test set, so we need to account for diffs\n",
        "test_index = np.arange(len(test_all.index))\n",
        "column_diffs = list(set(encoded.columns.values)-set(test_encoded_base.columns.values))\n",
        "\n",
        "diff_df = pd.DataFrame(0, index=test_index, columns=column_diffs)\n",
        "\n",
        "#get column order for matching later\n",
        "column_order = encoded.columns.to_list()\n",
        "\n",
        "# append the new columns\n",
        "test_encoded_temp = test_encoded_base.join(diff_df)\n",
        "\n",
        "# reorder the columns\n",
        "test_final = test_encoded_temp[column_order]\n",
        "\n",
        "test_final = test_final.fillna(0)\n",
        "\n",
        "# model to fit/test\n",
        "train_1hot = encoded.join(train_all[numeric_features])\n",
        "test_1hot = test_final.join(test_all[numeric_features])"
      ],
      "execution_count": null,
      "outputs": []
    },
    {
      "cell_type": "code",
      "metadata": {
        "id": "ZpIZEIasGclW"
      },
      "source": [
        "train_lab = train_all[features_to_encode + numeric_features]\n",
        "test_lab = test_all[features_to_encode + numeric_features]"
      ],
      "execution_count": null,
      "outputs": []
    },
    {
      "cell_type": "code",
      "metadata": {
        "colab": {
          "base_uri": "https://localhost:8080/"
        },
        "id": "OxJo0KeRGk3Q",
        "outputId": "8ef3d8ca-915a-46aa-9cfa-53421dda949f"
      },
      "source": [
        "max_values = {}\n",
        "for col in features_to_encode:\n",
        "  print(col)\n",
        "  lbl = LabelEncoder()\n",
        "  lbl.fit(list(train_lab[col].values.astype('str')) + list(test_lab[col].values.astype('str')))\n",
        "  train_lab[col] = lbl.transform(list(train_lab[col].values.astype('str')))\n",
        "  test_lab[col] = lbl.transform(list(test_lab[col].values.astype('str')))\n",
        "  max_values[col] = max(train_lab[col].max(), test_lab[col].max())  + 2"
      ],
      "execution_count": null,
      "outputs": [
        {
          "output_type": "stream",
          "text": [
            "protocol_type\n"
          ],
          "name": "stdout"
        },
        {
          "output_type": "stream",
          "text": [
            "/usr/local/lib/python3.7/dist-packages/ipykernel_launcher.py:6: SettingWithCopyWarning: \n",
            "A value is trying to be set on a copy of a slice from a DataFrame.\n",
            "Try using .loc[row_indexer,col_indexer] = value instead\n",
            "\n",
            "See the caveats in the documentation: https://pandas.pydata.org/pandas-docs/stable/user_guide/indexing.html#returning-a-view-versus-a-copy\n",
            "  \n",
            "/usr/local/lib/python3.7/dist-packages/ipykernel_launcher.py:7: SettingWithCopyWarning: \n",
            "A value is trying to be set on a copy of a slice from a DataFrame.\n",
            "Try using .loc[row_indexer,col_indexer] = value instead\n",
            "\n",
            "See the caveats in the documentation: https://pandas.pydata.org/pandas-docs/stable/user_guide/indexing.html#returning-a-view-versus-a-copy\n",
            "  import sys\n"
          ],
          "name": "stderr"
        },
        {
          "output_type": "stream",
          "text": [
            "service\n",
            "flag\n"
          ],
          "name": "stdout"
        }
      ]
    },
    {
      "cell_type": "code",
      "metadata": {
        "id": "Dx4t9afuGlQs"
      },
      "source": [
        "train_all_features = pd.concat([train_1hot, train_lab[[\"protocol_type\", \"service\", \"flag\"]]], axis = 1)"
      ],
      "execution_count": null,
      "outputs": []
    },
    {
      "cell_type": "code",
      "metadata": {
        "colab": {
          "base_uri": "https://localhost:8080/",
          "height": 431
        },
        "id": "kSJgR7KyeD0h",
        "outputId": "265d6346-d478-48a5-daed-c22fbe66d888"
      },
      "source": [
        "train_all_features"
      ],
      "execution_count": null,
      "outputs": [
        {
          "output_type": "execute_result",
          "data": {
            "text/html": [
              "<div>\n",
              "<style scoped>\n",
              "    .dataframe tbody tr th:only-of-type {\n",
              "        vertical-align: middle;\n",
              "    }\n",
              "\n",
              "    .dataframe tbody tr th {\n",
              "        vertical-align: top;\n",
              "    }\n",
              "\n",
              "    .dataframe thead th {\n",
              "        text-align: right;\n",
              "    }\n",
              "</style>\n",
              "<table border=\"1\" class=\"dataframe\">\n",
              "  <thead>\n",
              "    <tr style=\"text-align: right;\">\n",
              "      <th></th>\n",
              "      <th>protocol_type_icmp</th>\n",
              "      <th>protocol_type_tcp</th>\n",
              "      <th>protocol_type_udp</th>\n",
              "      <th>service_IRC</th>\n",
              "      <th>service_X11</th>\n",
              "      <th>service_Z39_50</th>\n",
              "      <th>service_aol</th>\n",
              "      <th>service_auth</th>\n",
              "      <th>service_bgp</th>\n",
              "      <th>service_courier</th>\n",
              "      <th>service_csnet_ns</th>\n",
              "      <th>service_ctf</th>\n",
              "      <th>service_daytime</th>\n",
              "      <th>service_discard</th>\n",
              "      <th>service_domain</th>\n",
              "      <th>service_domain_u</th>\n",
              "      <th>service_echo</th>\n",
              "      <th>service_eco_i</th>\n",
              "      <th>service_ecr_i</th>\n",
              "      <th>service_efs</th>\n",
              "      <th>service_exec</th>\n",
              "      <th>service_finger</th>\n",
              "      <th>service_ftp</th>\n",
              "      <th>service_ftp_data</th>\n",
              "      <th>service_gopher</th>\n",
              "      <th>service_harvest</th>\n",
              "      <th>service_hostnames</th>\n",
              "      <th>service_http</th>\n",
              "      <th>service_http_2784</th>\n",
              "      <th>service_http_443</th>\n",
              "      <th>service_http_8001</th>\n",
              "      <th>service_imap4</th>\n",
              "      <th>service_iso_tsap</th>\n",
              "      <th>service_klogin</th>\n",
              "      <th>service_kshell</th>\n",
              "      <th>service_ldap</th>\n",
              "      <th>service_link</th>\n",
              "      <th>service_login</th>\n",
              "      <th>service_mtp</th>\n",
              "      <th>service_name</th>\n",
              "      <th>...</th>\n",
              "      <th>service_pop_3</th>\n",
              "      <th>service_printer</th>\n",
              "      <th>service_private</th>\n",
              "      <th>service_red_i</th>\n",
              "      <th>service_remote_job</th>\n",
              "      <th>service_rje</th>\n",
              "      <th>service_shell</th>\n",
              "      <th>service_smtp</th>\n",
              "      <th>service_sql_net</th>\n",
              "      <th>service_ssh</th>\n",
              "      <th>service_sunrpc</th>\n",
              "      <th>service_supdup</th>\n",
              "      <th>service_systat</th>\n",
              "      <th>service_telnet</th>\n",
              "      <th>service_tftp_u</th>\n",
              "      <th>service_tim_i</th>\n",
              "      <th>service_time</th>\n",
              "      <th>service_urh_i</th>\n",
              "      <th>service_urp_i</th>\n",
              "      <th>service_uucp</th>\n",
              "      <th>service_uucp_path</th>\n",
              "      <th>service_vmnet</th>\n",
              "      <th>service_whois</th>\n",
              "      <th>flag_OTH</th>\n",
              "      <th>flag_REJ</th>\n",
              "      <th>flag_RSTO</th>\n",
              "      <th>flag_RSTOS0</th>\n",
              "      <th>flag_RSTR</th>\n",
              "      <th>flag_S0</th>\n",
              "      <th>flag_S1</th>\n",
              "      <th>flag_S2</th>\n",
              "      <th>flag_S3</th>\n",
              "      <th>flag_SF</th>\n",
              "      <th>flag_SH</th>\n",
              "      <th>duration</th>\n",
              "      <th>src_bytes</th>\n",
              "      <th>dst_bytes</th>\n",
              "      <th>protocol_type</th>\n",
              "      <th>service</th>\n",
              "      <th>flag</th>\n",
              "    </tr>\n",
              "  </thead>\n",
              "  <tbody>\n",
              "    <tr>\n",
              "      <th>0</th>\n",
              "      <td>0</td>\n",
              "      <td>0</td>\n",
              "      <td>1</td>\n",
              "      <td>0</td>\n",
              "      <td>0</td>\n",
              "      <td>0</td>\n",
              "      <td>0</td>\n",
              "      <td>0</td>\n",
              "      <td>0</td>\n",
              "      <td>0</td>\n",
              "      <td>0</td>\n",
              "      <td>0</td>\n",
              "      <td>0</td>\n",
              "      <td>0</td>\n",
              "      <td>0</td>\n",
              "      <td>0</td>\n",
              "      <td>0</td>\n",
              "      <td>0</td>\n",
              "      <td>0</td>\n",
              "      <td>0</td>\n",
              "      <td>0</td>\n",
              "      <td>0</td>\n",
              "      <td>0</td>\n",
              "      <td>0</td>\n",
              "      <td>0</td>\n",
              "      <td>0</td>\n",
              "      <td>0</td>\n",
              "      <td>0</td>\n",
              "      <td>0</td>\n",
              "      <td>0</td>\n",
              "      <td>0</td>\n",
              "      <td>0</td>\n",
              "      <td>0</td>\n",
              "      <td>0</td>\n",
              "      <td>0</td>\n",
              "      <td>0</td>\n",
              "      <td>0</td>\n",
              "      <td>0</td>\n",
              "      <td>0</td>\n",
              "      <td>0</td>\n",
              "      <td>...</td>\n",
              "      <td>0</td>\n",
              "      <td>0</td>\n",
              "      <td>0</td>\n",
              "      <td>0</td>\n",
              "      <td>0</td>\n",
              "      <td>0</td>\n",
              "      <td>0</td>\n",
              "      <td>0</td>\n",
              "      <td>0</td>\n",
              "      <td>0</td>\n",
              "      <td>0</td>\n",
              "      <td>0</td>\n",
              "      <td>0</td>\n",
              "      <td>0</td>\n",
              "      <td>0</td>\n",
              "      <td>0</td>\n",
              "      <td>0</td>\n",
              "      <td>0</td>\n",
              "      <td>0</td>\n",
              "      <td>0</td>\n",
              "      <td>0</td>\n",
              "      <td>0</td>\n",
              "      <td>0</td>\n",
              "      <td>0</td>\n",
              "      <td>0</td>\n",
              "      <td>0</td>\n",
              "      <td>0</td>\n",
              "      <td>0</td>\n",
              "      <td>0</td>\n",
              "      <td>0</td>\n",
              "      <td>0</td>\n",
              "      <td>0</td>\n",
              "      <td>1</td>\n",
              "      <td>0</td>\n",
              "      <td>0</td>\n",
              "      <td>146</td>\n",
              "      <td>0</td>\n",
              "      <td>2</td>\n",
              "      <td>44</td>\n",
              "      <td>9</td>\n",
              "    </tr>\n",
              "    <tr>\n",
              "      <th>1</th>\n",
              "      <td>0</td>\n",
              "      <td>1</td>\n",
              "      <td>0</td>\n",
              "      <td>0</td>\n",
              "      <td>0</td>\n",
              "      <td>0</td>\n",
              "      <td>0</td>\n",
              "      <td>0</td>\n",
              "      <td>0</td>\n",
              "      <td>0</td>\n",
              "      <td>0</td>\n",
              "      <td>0</td>\n",
              "      <td>0</td>\n",
              "      <td>0</td>\n",
              "      <td>0</td>\n",
              "      <td>0</td>\n",
              "      <td>0</td>\n",
              "      <td>0</td>\n",
              "      <td>0</td>\n",
              "      <td>0</td>\n",
              "      <td>0</td>\n",
              "      <td>0</td>\n",
              "      <td>0</td>\n",
              "      <td>0</td>\n",
              "      <td>0</td>\n",
              "      <td>0</td>\n",
              "      <td>0</td>\n",
              "      <td>0</td>\n",
              "      <td>0</td>\n",
              "      <td>0</td>\n",
              "      <td>0</td>\n",
              "      <td>0</td>\n",
              "      <td>0</td>\n",
              "      <td>0</td>\n",
              "      <td>0</td>\n",
              "      <td>0</td>\n",
              "      <td>0</td>\n",
              "      <td>0</td>\n",
              "      <td>0</td>\n",
              "      <td>0</td>\n",
              "      <td>...</td>\n",
              "      <td>0</td>\n",
              "      <td>0</td>\n",
              "      <td>1</td>\n",
              "      <td>0</td>\n",
              "      <td>0</td>\n",
              "      <td>0</td>\n",
              "      <td>0</td>\n",
              "      <td>0</td>\n",
              "      <td>0</td>\n",
              "      <td>0</td>\n",
              "      <td>0</td>\n",
              "      <td>0</td>\n",
              "      <td>0</td>\n",
              "      <td>0</td>\n",
              "      <td>0</td>\n",
              "      <td>0</td>\n",
              "      <td>0</td>\n",
              "      <td>0</td>\n",
              "      <td>0</td>\n",
              "      <td>0</td>\n",
              "      <td>0</td>\n",
              "      <td>0</td>\n",
              "      <td>0</td>\n",
              "      <td>0</td>\n",
              "      <td>0</td>\n",
              "      <td>0</td>\n",
              "      <td>0</td>\n",
              "      <td>0</td>\n",
              "      <td>1</td>\n",
              "      <td>0</td>\n",
              "      <td>0</td>\n",
              "      <td>0</td>\n",
              "      <td>0</td>\n",
              "      <td>0</td>\n",
              "      <td>0</td>\n",
              "      <td>0</td>\n",
              "      <td>0</td>\n",
              "      <td>1</td>\n",
              "      <td>49</td>\n",
              "      <td>5</td>\n",
              "    </tr>\n",
              "    <tr>\n",
              "      <th>2</th>\n",
              "      <td>0</td>\n",
              "      <td>1</td>\n",
              "      <td>0</td>\n",
              "      <td>0</td>\n",
              "      <td>0</td>\n",
              "      <td>0</td>\n",
              "      <td>0</td>\n",
              "      <td>0</td>\n",
              "      <td>0</td>\n",
              "      <td>0</td>\n",
              "      <td>0</td>\n",
              "      <td>0</td>\n",
              "      <td>0</td>\n",
              "      <td>0</td>\n",
              "      <td>0</td>\n",
              "      <td>0</td>\n",
              "      <td>0</td>\n",
              "      <td>0</td>\n",
              "      <td>0</td>\n",
              "      <td>0</td>\n",
              "      <td>0</td>\n",
              "      <td>0</td>\n",
              "      <td>0</td>\n",
              "      <td>0</td>\n",
              "      <td>0</td>\n",
              "      <td>0</td>\n",
              "      <td>0</td>\n",
              "      <td>1</td>\n",
              "      <td>0</td>\n",
              "      <td>0</td>\n",
              "      <td>0</td>\n",
              "      <td>0</td>\n",
              "      <td>0</td>\n",
              "      <td>0</td>\n",
              "      <td>0</td>\n",
              "      <td>0</td>\n",
              "      <td>0</td>\n",
              "      <td>0</td>\n",
              "      <td>0</td>\n",
              "      <td>0</td>\n",
              "      <td>...</td>\n",
              "      <td>0</td>\n",
              "      <td>0</td>\n",
              "      <td>0</td>\n",
              "      <td>0</td>\n",
              "      <td>0</td>\n",
              "      <td>0</td>\n",
              "      <td>0</td>\n",
              "      <td>0</td>\n",
              "      <td>0</td>\n",
              "      <td>0</td>\n",
              "      <td>0</td>\n",
              "      <td>0</td>\n",
              "      <td>0</td>\n",
              "      <td>0</td>\n",
              "      <td>0</td>\n",
              "      <td>0</td>\n",
              "      <td>0</td>\n",
              "      <td>0</td>\n",
              "      <td>0</td>\n",
              "      <td>0</td>\n",
              "      <td>0</td>\n",
              "      <td>0</td>\n",
              "      <td>0</td>\n",
              "      <td>0</td>\n",
              "      <td>0</td>\n",
              "      <td>0</td>\n",
              "      <td>0</td>\n",
              "      <td>0</td>\n",
              "      <td>0</td>\n",
              "      <td>0</td>\n",
              "      <td>0</td>\n",
              "      <td>0</td>\n",
              "      <td>1</td>\n",
              "      <td>0</td>\n",
              "      <td>0</td>\n",
              "      <td>232</td>\n",
              "      <td>8153</td>\n",
              "      <td>1</td>\n",
              "      <td>24</td>\n",
              "      <td>9</td>\n",
              "    </tr>\n",
              "    <tr>\n",
              "      <th>3</th>\n",
              "      <td>0</td>\n",
              "      <td>1</td>\n",
              "      <td>0</td>\n",
              "      <td>0</td>\n",
              "      <td>0</td>\n",
              "      <td>0</td>\n",
              "      <td>0</td>\n",
              "      <td>0</td>\n",
              "      <td>0</td>\n",
              "      <td>0</td>\n",
              "      <td>0</td>\n",
              "      <td>0</td>\n",
              "      <td>0</td>\n",
              "      <td>0</td>\n",
              "      <td>0</td>\n",
              "      <td>0</td>\n",
              "      <td>0</td>\n",
              "      <td>0</td>\n",
              "      <td>0</td>\n",
              "      <td>0</td>\n",
              "      <td>0</td>\n",
              "      <td>0</td>\n",
              "      <td>0</td>\n",
              "      <td>0</td>\n",
              "      <td>0</td>\n",
              "      <td>0</td>\n",
              "      <td>0</td>\n",
              "      <td>1</td>\n",
              "      <td>0</td>\n",
              "      <td>0</td>\n",
              "      <td>0</td>\n",
              "      <td>0</td>\n",
              "      <td>0</td>\n",
              "      <td>0</td>\n",
              "      <td>0</td>\n",
              "      <td>0</td>\n",
              "      <td>0</td>\n",
              "      <td>0</td>\n",
              "      <td>0</td>\n",
              "      <td>0</td>\n",
              "      <td>...</td>\n",
              "      <td>0</td>\n",
              "      <td>0</td>\n",
              "      <td>0</td>\n",
              "      <td>0</td>\n",
              "      <td>0</td>\n",
              "      <td>0</td>\n",
              "      <td>0</td>\n",
              "      <td>0</td>\n",
              "      <td>0</td>\n",
              "      <td>0</td>\n",
              "      <td>0</td>\n",
              "      <td>0</td>\n",
              "      <td>0</td>\n",
              "      <td>0</td>\n",
              "      <td>0</td>\n",
              "      <td>0</td>\n",
              "      <td>0</td>\n",
              "      <td>0</td>\n",
              "      <td>0</td>\n",
              "      <td>0</td>\n",
              "      <td>0</td>\n",
              "      <td>0</td>\n",
              "      <td>0</td>\n",
              "      <td>0</td>\n",
              "      <td>0</td>\n",
              "      <td>0</td>\n",
              "      <td>0</td>\n",
              "      <td>0</td>\n",
              "      <td>0</td>\n",
              "      <td>0</td>\n",
              "      <td>0</td>\n",
              "      <td>0</td>\n",
              "      <td>1</td>\n",
              "      <td>0</td>\n",
              "      <td>0</td>\n",
              "      <td>199</td>\n",
              "      <td>420</td>\n",
              "      <td>1</td>\n",
              "      <td>24</td>\n",
              "      <td>9</td>\n",
              "    </tr>\n",
              "    <tr>\n",
              "      <th>4</th>\n",
              "      <td>0</td>\n",
              "      <td>1</td>\n",
              "      <td>0</td>\n",
              "      <td>0</td>\n",
              "      <td>0</td>\n",
              "      <td>0</td>\n",
              "      <td>0</td>\n",
              "      <td>0</td>\n",
              "      <td>0</td>\n",
              "      <td>0</td>\n",
              "      <td>0</td>\n",
              "      <td>0</td>\n",
              "      <td>0</td>\n",
              "      <td>0</td>\n",
              "      <td>0</td>\n",
              "      <td>0</td>\n",
              "      <td>0</td>\n",
              "      <td>0</td>\n",
              "      <td>0</td>\n",
              "      <td>0</td>\n",
              "      <td>0</td>\n",
              "      <td>0</td>\n",
              "      <td>0</td>\n",
              "      <td>0</td>\n",
              "      <td>0</td>\n",
              "      <td>0</td>\n",
              "      <td>0</td>\n",
              "      <td>0</td>\n",
              "      <td>0</td>\n",
              "      <td>0</td>\n",
              "      <td>0</td>\n",
              "      <td>0</td>\n",
              "      <td>0</td>\n",
              "      <td>0</td>\n",
              "      <td>0</td>\n",
              "      <td>0</td>\n",
              "      <td>0</td>\n",
              "      <td>0</td>\n",
              "      <td>0</td>\n",
              "      <td>0</td>\n",
              "      <td>...</td>\n",
              "      <td>0</td>\n",
              "      <td>0</td>\n",
              "      <td>1</td>\n",
              "      <td>0</td>\n",
              "      <td>0</td>\n",
              "      <td>0</td>\n",
              "      <td>0</td>\n",
              "      <td>0</td>\n",
              "      <td>0</td>\n",
              "      <td>0</td>\n",
              "      <td>0</td>\n",
              "      <td>0</td>\n",
              "      <td>0</td>\n",
              "      <td>0</td>\n",
              "      <td>0</td>\n",
              "      <td>0</td>\n",
              "      <td>0</td>\n",
              "      <td>0</td>\n",
              "      <td>0</td>\n",
              "      <td>0</td>\n",
              "      <td>0</td>\n",
              "      <td>0</td>\n",
              "      <td>0</td>\n",
              "      <td>0</td>\n",
              "      <td>1</td>\n",
              "      <td>0</td>\n",
              "      <td>0</td>\n",
              "      <td>0</td>\n",
              "      <td>0</td>\n",
              "      <td>0</td>\n",
              "      <td>0</td>\n",
              "      <td>0</td>\n",
              "      <td>0</td>\n",
              "      <td>0</td>\n",
              "      <td>0</td>\n",
              "      <td>0</td>\n",
              "      <td>0</td>\n",
              "      <td>1</td>\n",
              "      <td>49</td>\n",
              "      <td>1</td>\n",
              "    </tr>\n",
              "    <tr>\n",
              "      <th>...</th>\n",
              "      <td>...</td>\n",
              "      <td>...</td>\n",
              "      <td>...</td>\n",
              "      <td>...</td>\n",
              "      <td>...</td>\n",
              "      <td>...</td>\n",
              "      <td>...</td>\n",
              "      <td>...</td>\n",
              "      <td>...</td>\n",
              "      <td>...</td>\n",
              "      <td>...</td>\n",
              "      <td>...</td>\n",
              "      <td>...</td>\n",
              "      <td>...</td>\n",
              "      <td>...</td>\n",
              "      <td>...</td>\n",
              "      <td>...</td>\n",
              "      <td>...</td>\n",
              "      <td>...</td>\n",
              "      <td>...</td>\n",
              "      <td>...</td>\n",
              "      <td>...</td>\n",
              "      <td>...</td>\n",
              "      <td>...</td>\n",
              "      <td>...</td>\n",
              "      <td>...</td>\n",
              "      <td>...</td>\n",
              "      <td>...</td>\n",
              "      <td>...</td>\n",
              "      <td>...</td>\n",
              "      <td>...</td>\n",
              "      <td>...</td>\n",
              "      <td>...</td>\n",
              "      <td>...</td>\n",
              "      <td>...</td>\n",
              "      <td>...</td>\n",
              "      <td>...</td>\n",
              "      <td>...</td>\n",
              "      <td>...</td>\n",
              "      <td>...</td>\n",
              "      <td>...</td>\n",
              "      <td>...</td>\n",
              "      <td>...</td>\n",
              "      <td>...</td>\n",
              "      <td>...</td>\n",
              "      <td>...</td>\n",
              "      <td>...</td>\n",
              "      <td>...</td>\n",
              "      <td>...</td>\n",
              "      <td>...</td>\n",
              "      <td>...</td>\n",
              "      <td>...</td>\n",
              "      <td>...</td>\n",
              "      <td>...</td>\n",
              "      <td>...</td>\n",
              "      <td>...</td>\n",
              "      <td>...</td>\n",
              "      <td>...</td>\n",
              "      <td>...</td>\n",
              "      <td>...</td>\n",
              "      <td>...</td>\n",
              "      <td>...</td>\n",
              "      <td>...</td>\n",
              "      <td>...</td>\n",
              "      <td>...</td>\n",
              "      <td>...</td>\n",
              "      <td>...</td>\n",
              "      <td>...</td>\n",
              "      <td>...</td>\n",
              "      <td>...</td>\n",
              "      <td>...</td>\n",
              "      <td>...</td>\n",
              "      <td>...</td>\n",
              "      <td>...</td>\n",
              "      <td>...</td>\n",
              "      <td>...</td>\n",
              "      <td>...</td>\n",
              "      <td>...</td>\n",
              "      <td>...</td>\n",
              "      <td>...</td>\n",
              "      <td>...</td>\n",
              "    </tr>\n",
              "    <tr>\n",
              "      <th>125967</th>\n",
              "      <td>0</td>\n",
              "      <td>1</td>\n",
              "      <td>0</td>\n",
              "      <td>0</td>\n",
              "      <td>0</td>\n",
              "      <td>0</td>\n",
              "      <td>0</td>\n",
              "      <td>0</td>\n",
              "      <td>0</td>\n",
              "      <td>0</td>\n",
              "      <td>0</td>\n",
              "      <td>0</td>\n",
              "      <td>0</td>\n",
              "      <td>0</td>\n",
              "      <td>0</td>\n",
              "      <td>0</td>\n",
              "      <td>0</td>\n",
              "      <td>0</td>\n",
              "      <td>0</td>\n",
              "      <td>0</td>\n",
              "      <td>0</td>\n",
              "      <td>0</td>\n",
              "      <td>0</td>\n",
              "      <td>0</td>\n",
              "      <td>0</td>\n",
              "      <td>0</td>\n",
              "      <td>0</td>\n",
              "      <td>0</td>\n",
              "      <td>0</td>\n",
              "      <td>0</td>\n",
              "      <td>0</td>\n",
              "      <td>0</td>\n",
              "      <td>0</td>\n",
              "      <td>0</td>\n",
              "      <td>0</td>\n",
              "      <td>0</td>\n",
              "      <td>0</td>\n",
              "      <td>0</td>\n",
              "      <td>0</td>\n",
              "      <td>0</td>\n",
              "      <td>...</td>\n",
              "      <td>0</td>\n",
              "      <td>0</td>\n",
              "      <td>1</td>\n",
              "      <td>0</td>\n",
              "      <td>0</td>\n",
              "      <td>0</td>\n",
              "      <td>0</td>\n",
              "      <td>0</td>\n",
              "      <td>0</td>\n",
              "      <td>0</td>\n",
              "      <td>0</td>\n",
              "      <td>0</td>\n",
              "      <td>0</td>\n",
              "      <td>0</td>\n",
              "      <td>0</td>\n",
              "      <td>0</td>\n",
              "      <td>0</td>\n",
              "      <td>0</td>\n",
              "      <td>0</td>\n",
              "      <td>0</td>\n",
              "      <td>0</td>\n",
              "      <td>0</td>\n",
              "      <td>0</td>\n",
              "      <td>0</td>\n",
              "      <td>0</td>\n",
              "      <td>0</td>\n",
              "      <td>0</td>\n",
              "      <td>0</td>\n",
              "      <td>1</td>\n",
              "      <td>0</td>\n",
              "      <td>0</td>\n",
              "      <td>0</td>\n",
              "      <td>0</td>\n",
              "      <td>0</td>\n",
              "      <td>0</td>\n",
              "      <td>0</td>\n",
              "      <td>0</td>\n",
              "      <td>1</td>\n",
              "      <td>49</td>\n",
              "      <td>5</td>\n",
              "    </tr>\n",
              "    <tr>\n",
              "      <th>125968</th>\n",
              "      <td>0</td>\n",
              "      <td>0</td>\n",
              "      <td>1</td>\n",
              "      <td>0</td>\n",
              "      <td>0</td>\n",
              "      <td>0</td>\n",
              "      <td>0</td>\n",
              "      <td>0</td>\n",
              "      <td>0</td>\n",
              "      <td>0</td>\n",
              "      <td>0</td>\n",
              "      <td>0</td>\n",
              "      <td>0</td>\n",
              "      <td>0</td>\n",
              "      <td>0</td>\n",
              "      <td>0</td>\n",
              "      <td>0</td>\n",
              "      <td>0</td>\n",
              "      <td>0</td>\n",
              "      <td>0</td>\n",
              "      <td>0</td>\n",
              "      <td>0</td>\n",
              "      <td>0</td>\n",
              "      <td>0</td>\n",
              "      <td>0</td>\n",
              "      <td>0</td>\n",
              "      <td>0</td>\n",
              "      <td>0</td>\n",
              "      <td>0</td>\n",
              "      <td>0</td>\n",
              "      <td>0</td>\n",
              "      <td>0</td>\n",
              "      <td>0</td>\n",
              "      <td>0</td>\n",
              "      <td>0</td>\n",
              "      <td>0</td>\n",
              "      <td>0</td>\n",
              "      <td>0</td>\n",
              "      <td>0</td>\n",
              "      <td>0</td>\n",
              "      <td>...</td>\n",
              "      <td>0</td>\n",
              "      <td>0</td>\n",
              "      <td>1</td>\n",
              "      <td>0</td>\n",
              "      <td>0</td>\n",
              "      <td>0</td>\n",
              "      <td>0</td>\n",
              "      <td>0</td>\n",
              "      <td>0</td>\n",
              "      <td>0</td>\n",
              "      <td>0</td>\n",
              "      <td>0</td>\n",
              "      <td>0</td>\n",
              "      <td>0</td>\n",
              "      <td>0</td>\n",
              "      <td>0</td>\n",
              "      <td>0</td>\n",
              "      <td>0</td>\n",
              "      <td>0</td>\n",
              "      <td>0</td>\n",
              "      <td>0</td>\n",
              "      <td>0</td>\n",
              "      <td>0</td>\n",
              "      <td>0</td>\n",
              "      <td>0</td>\n",
              "      <td>0</td>\n",
              "      <td>0</td>\n",
              "      <td>0</td>\n",
              "      <td>0</td>\n",
              "      <td>0</td>\n",
              "      <td>0</td>\n",
              "      <td>0</td>\n",
              "      <td>1</td>\n",
              "      <td>0</td>\n",
              "      <td>8</td>\n",
              "      <td>105</td>\n",
              "      <td>145</td>\n",
              "      <td>2</td>\n",
              "      <td>49</td>\n",
              "      <td>9</td>\n",
              "    </tr>\n",
              "    <tr>\n",
              "      <th>125969</th>\n",
              "      <td>0</td>\n",
              "      <td>1</td>\n",
              "      <td>0</td>\n",
              "      <td>0</td>\n",
              "      <td>0</td>\n",
              "      <td>0</td>\n",
              "      <td>0</td>\n",
              "      <td>0</td>\n",
              "      <td>0</td>\n",
              "      <td>0</td>\n",
              "      <td>0</td>\n",
              "      <td>0</td>\n",
              "      <td>0</td>\n",
              "      <td>0</td>\n",
              "      <td>0</td>\n",
              "      <td>0</td>\n",
              "      <td>0</td>\n",
              "      <td>0</td>\n",
              "      <td>0</td>\n",
              "      <td>0</td>\n",
              "      <td>0</td>\n",
              "      <td>0</td>\n",
              "      <td>0</td>\n",
              "      <td>0</td>\n",
              "      <td>0</td>\n",
              "      <td>0</td>\n",
              "      <td>0</td>\n",
              "      <td>0</td>\n",
              "      <td>0</td>\n",
              "      <td>0</td>\n",
              "      <td>0</td>\n",
              "      <td>0</td>\n",
              "      <td>0</td>\n",
              "      <td>0</td>\n",
              "      <td>0</td>\n",
              "      <td>0</td>\n",
              "      <td>0</td>\n",
              "      <td>0</td>\n",
              "      <td>0</td>\n",
              "      <td>0</td>\n",
              "      <td>...</td>\n",
              "      <td>0</td>\n",
              "      <td>0</td>\n",
              "      <td>0</td>\n",
              "      <td>0</td>\n",
              "      <td>0</td>\n",
              "      <td>0</td>\n",
              "      <td>0</td>\n",
              "      <td>1</td>\n",
              "      <td>0</td>\n",
              "      <td>0</td>\n",
              "      <td>0</td>\n",
              "      <td>0</td>\n",
              "      <td>0</td>\n",
              "      <td>0</td>\n",
              "      <td>0</td>\n",
              "      <td>0</td>\n",
              "      <td>0</td>\n",
              "      <td>0</td>\n",
              "      <td>0</td>\n",
              "      <td>0</td>\n",
              "      <td>0</td>\n",
              "      <td>0</td>\n",
              "      <td>0</td>\n",
              "      <td>0</td>\n",
              "      <td>0</td>\n",
              "      <td>0</td>\n",
              "      <td>0</td>\n",
              "      <td>0</td>\n",
              "      <td>0</td>\n",
              "      <td>0</td>\n",
              "      <td>0</td>\n",
              "      <td>0</td>\n",
              "      <td>1</td>\n",
              "      <td>0</td>\n",
              "      <td>0</td>\n",
              "      <td>2231</td>\n",
              "      <td>384</td>\n",
              "      <td>1</td>\n",
              "      <td>54</td>\n",
              "      <td>9</td>\n",
              "    </tr>\n",
              "    <tr>\n",
              "      <th>125970</th>\n",
              "      <td>0</td>\n",
              "      <td>1</td>\n",
              "      <td>0</td>\n",
              "      <td>0</td>\n",
              "      <td>0</td>\n",
              "      <td>0</td>\n",
              "      <td>0</td>\n",
              "      <td>0</td>\n",
              "      <td>0</td>\n",
              "      <td>0</td>\n",
              "      <td>0</td>\n",
              "      <td>0</td>\n",
              "      <td>0</td>\n",
              "      <td>0</td>\n",
              "      <td>0</td>\n",
              "      <td>0</td>\n",
              "      <td>0</td>\n",
              "      <td>0</td>\n",
              "      <td>0</td>\n",
              "      <td>0</td>\n",
              "      <td>0</td>\n",
              "      <td>0</td>\n",
              "      <td>0</td>\n",
              "      <td>0</td>\n",
              "      <td>0</td>\n",
              "      <td>0</td>\n",
              "      <td>0</td>\n",
              "      <td>0</td>\n",
              "      <td>0</td>\n",
              "      <td>0</td>\n",
              "      <td>0</td>\n",
              "      <td>0</td>\n",
              "      <td>0</td>\n",
              "      <td>1</td>\n",
              "      <td>0</td>\n",
              "      <td>0</td>\n",
              "      <td>0</td>\n",
              "      <td>0</td>\n",
              "      <td>0</td>\n",
              "      <td>0</td>\n",
              "      <td>...</td>\n",
              "      <td>0</td>\n",
              "      <td>0</td>\n",
              "      <td>0</td>\n",
              "      <td>0</td>\n",
              "      <td>0</td>\n",
              "      <td>0</td>\n",
              "      <td>0</td>\n",
              "      <td>0</td>\n",
              "      <td>0</td>\n",
              "      <td>0</td>\n",
              "      <td>0</td>\n",
              "      <td>0</td>\n",
              "      <td>0</td>\n",
              "      <td>0</td>\n",
              "      <td>0</td>\n",
              "      <td>0</td>\n",
              "      <td>0</td>\n",
              "      <td>0</td>\n",
              "      <td>0</td>\n",
              "      <td>0</td>\n",
              "      <td>0</td>\n",
              "      <td>0</td>\n",
              "      <td>0</td>\n",
              "      <td>0</td>\n",
              "      <td>0</td>\n",
              "      <td>0</td>\n",
              "      <td>0</td>\n",
              "      <td>0</td>\n",
              "      <td>1</td>\n",
              "      <td>0</td>\n",
              "      <td>0</td>\n",
              "      <td>0</td>\n",
              "      <td>0</td>\n",
              "      <td>0</td>\n",
              "      <td>0</td>\n",
              "      <td>0</td>\n",
              "      <td>0</td>\n",
              "      <td>1</td>\n",
              "      <td>30</td>\n",
              "      <td>5</td>\n",
              "    </tr>\n",
              "    <tr>\n",
              "      <th>125971</th>\n",
              "      <td>0</td>\n",
              "      <td>1</td>\n",
              "      <td>0</td>\n",
              "      <td>0</td>\n",
              "      <td>0</td>\n",
              "      <td>0</td>\n",
              "      <td>0</td>\n",
              "      <td>0</td>\n",
              "      <td>0</td>\n",
              "      <td>0</td>\n",
              "      <td>0</td>\n",
              "      <td>0</td>\n",
              "      <td>0</td>\n",
              "      <td>0</td>\n",
              "      <td>0</td>\n",
              "      <td>0</td>\n",
              "      <td>0</td>\n",
              "      <td>0</td>\n",
              "      <td>0</td>\n",
              "      <td>0</td>\n",
              "      <td>0</td>\n",
              "      <td>0</td>\n",
              "      <td>0</td>\n",
              "      <td>1</td>\n",
              "      <td>0</td>\n",
              "      <td>0</td>\n",
              "      <td>0</td>\n",
              "      <td>0</td>\n",
              "      <td>0</td>\n",
              "      <td>0</td>\n",
              "      <td>0</td>\n",
              "      <td>0</td>\n",
              "      <td>0</td>\n",
              "      <td>0</td>\n",
              "      <td>0</td>\n",
              "      <td>0</td>\n",
              "      <td>0</td>\n",
              "      <td>0</td>\n",
              "      <td>0</td>\n",
              "      <td>0</td>\n",
              "      <td>...</td>\n",
              "      <td>0</td>\n",
              "      <td>0</td>\n",
              "      <td>0</td>\n",
              "      <td>0</td>\n",
              "      <td>0</td>\n",
              "      <td>0</td>\n",
              "      <td>0</td>\n",
              "      <td>0</td>\n",
              "      <td>0</td>\n",
              "      <td>0</td>\n",
              "      <td>0</td>\n",
              "      <td>0</td>\n",
              "      <td>0</td>\n",
              "      <td>0</td>\n",
              "      <td>0</td>\n",
              "      <td>0</td>\n",
              "      <td>0</td>\n",
              "      <td>0</td>\n",
              "      <td>0</td>\n",
              "      <td>0</td>\n",
              "      <td>0</td>\n",
              "      <td>0</td>\n",
              "      <td>0</td>\n",
              "      <td>0</td>\n",
              "      <td>0</td>\n",
              "      <td>0</td>\n",
              "      <td>0</td>\n",
              "      <td>0</td>\n",
              "      <td>0</td>\n",
              "      <td>0</td>\n",
              "      <td>0</td>\n",
              "      <td>0</td>\n",
              "      <td>1</td>\n",
              "      <td>0</td>\n",
              "      <td>0</td>\n",
              "      <td>151</td>\n",
              "      <td>0</td>\n",
              "      <td>1</td>\n",
              "      <td>20</td>\n",
              "      <td>9</td>\n",
              "    </tr>\n",
              "  </tbody>\n",
              "</table>\n",
              "<p>125972 rows × 90 columns</p>\n",
              "</div>"
            ],
            "text/plain": [
              "        protocol_type_icmp  protocol_type_tcp  ...  service  flag\n",
              "0                        0                  0  ...       44     9\n",
              "1                        0                  1  ...       49     5\n",
              "2                        0                  1  ...       24     9\n",
              "3                        0                  1  ...       24     9\n",
              "4                        0                  1  ...       49     1\n",
              "...                    ...                ...  ...      ...   ...\n",
              "125967                   0                  1  ...       49     5\n",
              "125968                   0                  0  ...       49     9\n",
              "125969                   0                  1  ...       54     9\n",
              "125970                   0                  1  ...       30     5\n",
              "125971                   0                  1  ...       20     9\n",
              "\n",
              "[125972 rows x 90 columns]"
            ]
          },
          "metadata": {
            "tags": []
          },
          "execution_count": 12
        }
      ]
    },
    {
      "cell_type": "code",
      "metadata": {
        "id": "XOhcP8J6GnnV"
      },
      "source": [
        "# create our target classifications\n",
        "binary_y = train_all['attack_flag']\n",
        "\n",
        "test_binary_y = test_all['attack_flag']\n",
        "\n",
        "if SPLIT == 1:\n",
        "  binary_train_X, binary_val_X, binary_train_y, binary_val_y = train_test_split(train_all_features, binary_y, test_size=0.2, random_state=10)\n",
        "  train_X_lab = binary_train_X[features_to_encode + numeric_features]\n",
        "  train_X_1hot = binary_train_X.drop(columns=features_to_encode)\n",
        "else:\n",
        "  train_X_lab = train_all_features[features_to_encode + numeric_features]\n",
        "  train_X_1hot = train_all_features.drop(columns=features_to_encode)"
      ],
      "execution_count": null,
      "outputs": []
    },
    {
      "cell_type": "markdown",
      "metadata": {
        "id": "SB_fKrR9ZNDt"
      },
      "source": [
        "# **Naive Bayesian**"
      ]
    },
    {
      "cell_type": "markdown",
      "metadata": {
        "id": "vegJa6dAoT7m"
      },
      "source": [
        "Naive Bayes classifiers apply Bayes' theorem, assuming independence between features."
      ]
    },
    {
      "cell_type": "code",
      "metadata": {
        "colab": {
          "base_uri": "https://localhost:8080/"
        },
        "id": "qKhQqspwM_He",
        "outputId": "f5b4b41c-261e-40a2-f82e-5c4e8e80cc37"
      },
      "source": [
        "from sklearn.naive_bayes import GaussianNB\n",
        "# model for the binary classification\n",
        "NB_pipe = make_pipeline(StandardScaler(), GaussianNB())\n",
        "\n",
        "NB_pipe.fit(train_X_lab, binary_y)\n",
        "\n",
        "# model for the binary classification\n",
        "full_predictions_NB = NB_pipe.predict(test_lab)\n",
        "\n",
        "# get the score\n",
        "full_score_NB = accuracy_score(full_predictions_NB, test_binary_y)\n",
        "full_score_NB"
      ],
      "execution_count": null,
      "outputs": [
        {
          "output_type": "execute_result",
          "data": {
            "text/plain": [
              "0.601250942642949"
            ]
          },
          "metadata": {
            "tags": []
          },
          "execution_count": 16
        }
      ]
    },
    {
      "cell_type": "markdown",
      "metadata": {
        "id": "KnkBIzMJZHO-"
      },
      "source": [
        "# **Logistic Regression**"
      ]
    },
    {
      "cell_type": "markdown",
      "metadata": {
        "id": "Bqgmxl0SEQ1V"
      },
      "source": [
        "Logistic regression is commonly used to estimate the probability that a test sample belongs to a particular class.\n",
        "\n",
        "### Logistic regression: regression and a sigmoid\n",
        "\n",
        "Logistic regression applies a sigmoid function to the output of the linear regression.\n",
        "\n",
        "Regression:\n",
        "$$z = \\theta_0 x_0 + \\theta_1 x_1 + \\theta_2 x_2 + ... \\theta_N x_N$$\n",
        "\n",
        "Logistic regression\n",
        "$$ h(z) = \\frac{1}{1+\\exp^{-z}}$$\n",
        "\n",
        "### Cost function\n",
        "\n",
        "The cost function used for logistic regression is the average of the log loss across all training examples:\n",
        "\n",
        "$$J(\\theta) = -\\frac{1}{m} \\sum_{i=1}^m y^{(i)}\\log (h(z(\\theta)^{(i)})) + (1-y^{(i)})\\log (1-h(z(\\theta)^{(i)})) $$\n",
        "* $m$ is the number of training examples\n",
        "* $y^{(i)}$ is the actual label of the i-th training example.\n",
        "* $h(z(\\theta)^{(i)})$ is the model's prediction for the i-th training example.\n",
        "\n",
        "The loss function for a single training example is\n",
        "$$ Loss = -\\left( y^{(i)}\\log (h(z(\\theta)^{(i)})) + (1-y^{(i)})\\log (1-h(z(\\theta)^{(i)})) \\right)$$\n",
        "\n",
        "When the model makes a correct prediction for a training sample, the loss is close to 0. Otherwise, the loss is close to 1.\n"
      ]
    },
    {
      "cell_type": "code",
      "metadata": {
        "colab": {
          "base_uri": "https://localhost:8080/"
        },
        "id": "nljcvtLXG2Ys",
        "outputId": "f1e6a96c-7cb5-46fe-a42b-99c5835cb80a"
      },
      "source": [
        "# model for the binary classification\n",
        "logreg_pipe = make_pipeline(StandardScaler(), LogisticRegression(max_iter=250))\n",
        "\n",
        "logreg_pipe.fit(train_X_lab, binary_y)\n",
        "\n",
        "# model for the binary classification\n",
        "full_predictions_logreg = logreg_pipe.predict(test_lab)\n",
        "\n",
        "# get the score\n",
        "full_score_logreg = accuracy_score(full_predictions_logreg, test_binary_y)\n",
        "full_score_logreg"
      ],
      "execution_count": null,
      "outputs": [
        {
          "output_type": "execute_result",
          "data": {
            "text/plain": [
              "0.785920241316595"
            ]
          },
          "metadata": {
            "tags": []
          },
          "execution_count": 17
        }
      ]
    },
    {
      "cell_type": "markdown",
      "metadata": {
        "id": "o2H9aaujHSko"
      },
      "source": [
        "# **Support Vector Machines**\n",
        "\n",
        "The training of support vector machines involves finding the optimal hyperplane for two linearly separable classes of training samples. Support vectors are the training samples that lie closest to the decision hyperplane, i.e., the optimal hyperplane will change if any of them is removed. SVMs maximise the margin between support vectors of different classes.\n",
        "\n",
        "Kernel trick\n",
        "\n",
        "Adding polynomial features can improve performance of SVMs. However, the increase in features also increases complexity of model training. Fortunately, a trick can be applied when using SVM to achieve the same result of adding many high-degree polynomial features, without actually having to add them and incurring the complexity cost. \n",
        "\n",
        "\n"
      ]
    },
    {
      "cell_type": "code",
      "metadata": {
        "id": "j8x_EWcJBF03"
      },
      "source": [
        "# model for the binary classification\n",
        "svm_pipe = make_pipeline(StandardScaler(), SVC(C=0.001, kernel=\"rbf\", gamma=5, probability=True))\n",
        "svm_pipe.fit(train_X_lab, binary_y)\n",
        "full_svm_prediction = svm_pipe.predict(test_lab)"
      ],
      "execution_count": null,
      "outputs": []
    },
    {
      "cell_type": "code",
      "metadata": {
        "colab": {
          "base_uri": "https://localhost:8080/"
        },
        "id": "OOKBCRnbUeze",
        "outputId": "d682b9cf-a9af-442d-a7ad-76a24e693351"
      },
      "source": [
        "full_svm_model_score = accuracy_score(full_svm_prediction, test_binary_y)\n",
        "full_svm_model_score"
      ],
      "execution_count": null,
      "outputs": [
        {
          "output_type": "execute_result",
          "data": {
            "text/plain": [
              "0.7967440003548774"
            ]
          },
          "metadata": {
            "tags": []
          },
          "execution_count": 19
        }
      ]
    },
    {
      "cell_type": "markdown",
      "metadata": {
        "id": "ibOmPZChZsaP"
      },
      "source": [
        "# **Ensemble Learning**\n",
        "\n",
        "Ensemble learning techniques combine the decisions from multiple models to improve overall performance. Often, simply averaging the output of several simple models can lead to performance improvement.\n"
      ]
    },
    {
      "cell_type": "code",
      "metadata": {
        "colab": {
          "base_uri": "https://localhost:8080/"
        },
        "id": "Q5MVzrHgUKy-",
        "outputId": "44b40d39-40e9-463c-cb86-65e1a7aeb155"
      },
      "source": [
        "#simple averaging\n",
        "weighted = logreg_pipe.predict_proba(test_lab)[:,1]*0.5 + svm_pipe.predict_proba(test_lab)[:,1]*0.5\n",
        "weighted_bi =  np.where(weighted >= 0.5, 1, 0).astype(int)\n",
        "weighted_score = accuracy_score(weighted_bi, test_binary_y)\n",
        "weighted_score"
      ],
      "execution_count": null,
      "outputs": [
        {
          "output_type": "execute_result",
          "data": {
            "text/plain": [
              "0.806281329015659"
            ]
          },
          "metadata": {
            "tags": []
          },
          "execution_count": 20
        }
      ]
    },
    {
      "cell_type": "markdown",
      "metadata": {
        "id": "pvz0N8Q3KNGr"
      },
      "source": [
        "## Stacking"
      ]
    },
    {
      "cell_type": "markdown",
      "metadata": {
        "id": "LzZyVZe3TXTJ"
      },
      "source": [
        "The previous example showed how aggregating the results of classifiers with simple functions (e.g., by averaging) can lead an improvement of overall performance. Stacking is a simple extension of this idea: aggregation of classification output is performed by a model. To achieve this, a common approach is to split the training set into two subsets. The first subset is used to train individual classifiers while the second subset is used to train the model to aggregate the output from individual classifiers."
      ]
    },
    {
      "cell_type": "code",
      "metadata": {
        "id": "sSvIGPAzRrc3"
      },
      "source": [
        "train_X_sub1, train_X_sub2, train_y_sub1, train_y_sub2 = train_test_split(train_X_lab, binary_y, test_size=0.5, random_state=10)"
      ],
      "execution_count": null,
      "outputs": []
    },
    {
      "cell_type": "code",
      "metadata": {
        "colab": {
          "base_uri": "https://localhost:8080/"
        },
        "id": "7a8MAq9wo_kG",
        "outputId": "1ecb5bbf-0b49-4e31-c295-61453b9d04af"
      },
      "source": [
        "# model for the binary classification\n",
        "logreg_pipe_sub1 = make_pipeline(StandardScaler(), LogisticRegression(max_iter=250))\n",
        "logreg_pipe_sub1.fit(train_X_sub1, train_y_sub1)"
      ],
      "execution_count": null,
      "outputs": [
        {
          "output_type": "execute_result",
          "data": {
            "text/plain": [
              "Pipeline(memory=None,\n",
              "         steps=[('standardscaler',\n",
              "                 StandardScaler(copy=True, with_mean=True, with_std=True)),\n",
              "                ('logisticregression',\n",
              "                 LogisticRegression(C=1.0, class_weight=None, dual=False,\n",
              "                                    fit_intercept=True, intercept_scaling=1,\n",
              "                                    l1_ratio=None, max_iter=250,\n",
              "                                    multi_class='auto', n_jobs=None,\n",
              "                                    penalty='l2', random_state=None,\n",
              "                                    solver='lbfgs', tol=0.0001, verbose=0,\n",
              "                                    warm_start=False))],\n",
              "         verbose=False)"
            ]
          },
          "metadata": {
            "tags": []
          },
          "execution_count": 22
        }
      ]
    },
    {
      "cell_type": "code",
      "metadata": {
        "colab": {
          "base_uri": "https://localhost:8080/"
        },
        "id": "5fP0FkPiY6C7",
        "outputId": "89349799-fc7f-4cd8-8d5f-1633f0b8fe7d"
      },
      "source": [
        "# model for the binary classification\n",
        "logreg_pipe_sub1 = make_pipeline(StandardScaler(), LogisticRegression(max_iter=250))\n",
        "logreg_pipe_sub1.fit(train_X_sub1, train_y_sub1)\n",
        "\n",
        "# model for the binary classification\n",
        "predictions_logreg_sub2 = logreg_pipe_sub1.predict(train_X_sub2)\n",
        "\n",
        "# get the score\n",
        "score_logreg_sub2 = accuracy_score(predictions_logreg_sub2, train_y_sub2)\n",
        "score_logreg_sub2"
      ],
      "execution_count": null,
      "outputs": [
        {
          "output_type": "execute_result",
          "data": {
            "text/plain": [
              "0.9201886133426476"
            ]
          },
          "metadata": {
            "tags": []
          },
          "execution_count": 23
        }
      ]
    },
    {
      "cell_type": "code",
      "metadata": {
        "colab": {
          "base_uri": "https://localhost:8080/"
        },
        "id": "vQVCAkZ4a5hD",
        "outputId": "f6244226-8932-4337-b0f9-ee07244d73e6"
      },
      "source": [
        "# model for the binary classification\n",
        "svm_pipe_sub1 = make_pipeline(StandardScaler(), SVC(C=0.001, kernel=\"rbf\", gamma=5, probability=True))\n",
        "svm_pipe_sub1.fit(train_X_sub1, train_y_sub1)\n",
        "\n",
        "# model for the binary classification\n",
        "predictions_svm_sub2 = svm_pipe_sub1.predict(train_X_sub2)\n",
        "\n",
        "# get the score\n",
        "score_svm_sub2 = accuracy_score(predictions_svm_sub2, train_y_sub2)\n",
        "score_svm_sub2"
      ],
      "execution_count": null,
      "outputs": [
        {
          "output_type": "execute_result",
          "data": {
            "text/plain": [
              "0.9244117740450258"
            ]
          },
          "metadata": {
            "tags": []
          },
          "execution_count": 25
        }
      ]
    },
    {
      "cell_type": "code",
      "metadata": {
        "colab": {
          "base_uri": "https://localhost:8080/"
        },
        "id": "3rGEndCIq-4C",
        "outputId": "b5cddfd7-d8ab-4b74-d352-0f24a2e794c2"
      },
      "source": [
        "print(accuracy_score(logreg_pipe_sub1.predict(test_lab), test_binary_y))\n",
        "print(precision_score(logreg_pipe_sub1.predict(test_lab), test_binary_y))\n",
        "print(recall_score(logreg_pipe_sub1.predict(test_lab), test_binary_y))\n",
        "print(f1_score(logreg_pipe_sub1.predict(test_lab), test_binary_y))"
      ],
      "execution_count": null,
      "outputs": [
        {
          "output_type": "stream",
          "text": [
            "0.785920241316595\n",
            "0.6386377805486284\n",
            "0.9774570610687023\n",
            "0.7725301659125188\n"
          ],
          "name": "stdout"
        }
      ]
    },
    {
      "cell_type": "code",
      "metadata": {
        "colab": {
          "base_uri": "https://localhost:8080/"
        },
        "id": "ltT6Ryn5vX0W",
        "outputId": "1c903f10-ae0c-4d4a-ab6f-7a0dbf4e078f"
      },
      "source": [
        "print(accuracy_score(svm_pipe_sub1.predict(test_lab), test_binary_y))\n",
        "print(precision_score(svm_pipe_sub1.predict(test_lab), test_binary_y))\n",
        "print(recall_score(svm_pipe_sub1.predict(test_lab), test_binary_y))\n",
        "print(f1_score(svm_pipe_sub1.predict(test_lab), test_binary_y))"
      ],
      "execution_count": null,
      "outputs": [
        {
          "output_type": "stream",
          "text": [
            "0.8020228008694495\n",
            "0.737998753117207\n",
            "0.8958471289376596\n",
            "0.8092979532538563\n"
          ],
          "name": "stdout"
        }
      ]
    },
    {
      "cell_type": "code",
      "metadata": {
        "colab": {
          "base_uri": "https://localhost:8080/"
        },
        "id": "kjiGSPg0um4q",
        "outputId": "f2550dd4-e579-4a91-a406-5a36adffc6b3"
      },
      "source": [
        "#simple averaging\n",
        "weighted = logreg_pipe_sub1.predict_proba(test_lab)[:,1]*0.5 + svm_pipe_sub1.predict_proba(test_lab)[:,1]*0.5\n",
        "weighted_bi =  np.where(weighted >= 0.5, 1, 0).astype(int)\n",
        "print(accuracy_score(weighted_bi, test_binary_y))\n",
        "print(precision_score(weighted_bi, test_binary_y))\n",
        "print(recall_score(weighted_bi, test_binary_y))\n",
        "print(f1_score(weighted_bi, test_binary_y))"
      ],
      "execution_count": null,
      "outputs": [
        {
          "output_type": "stream",
          "text": [
            "0.8058377323337621\n",
            "0.6749532418952618\n",
            "0.9767677906845608\n",
            "0.798285635282732\n"
          ],
          "name": "stdout"
        }
      ]
    },
    {
      "cell_type": "code",
      "metadata": {
        "id": "ywP7ibbqVbSM"
      },
      "source": [
        "#stacking\n",
        "stack_train_LR = pd.DataFrame(logreg_pipe_sub1.predict_proba(train_X_sub2)[:,1])\n",
        "stack_train_SVM = pd.DataFrame(svm_pipe_sub1.predict_proba(train_X_sub2)[:,1])\n",
        "stack_train_LR_SVM = pd.concat([stack_train_LR, stack_train_SVM], axis = 1)"
      ],
      "execution_count": null,
      "outputs": []
    },
    {
      "cell_type": "code",
      "metadata": {
        "id": "WigZdTYj8b0e"
      },
      "source": [
        "full_predictions_logreg_proba = logreg_pipe_sub1.predict_proba(test_lab)[:,1]\n",
        "full_prediction_svm_proba = svm_pipe_sub1.predict_proba(test_lab)[:,1]"
      ],
      "execution_count": null,
      "outputs": []
    },
    {
      "cell_type": "code",
      "metadata": {
        "colab": {
          "base_uri": "https://localhost:8080/"
        },
        "id": "TzXohoTXbs6X",
        "outputId": "e5b02a49-d0b3-4f59-fd55-b7a33cdce102"
      },
      "source": [
        "# model for the binary classification\n",
        "logreg_stack_pipe = make_pipeline(StandardScaler(), LogisticRegression(max_iter=250))\n",
        "\n",
        "logreg_stack_pipe.fit(stack_train_LR_SVM, train_y_sub2)\n",
        "\n",
        "stack_test_LR = pd.DataFrame(full_predictions_logreg_proba)\n",
        "stack_test_SVM = pd.DataFrame(full_prediction_svm_proba)\n",
        "\n",
        "stack_test = pd.concat([stack_test_LR, stack_test_SVM], axis = 1)\n",
        "\n",
        "# model for the binary classification\n",
        "full_predictions_stack_logreg = logreg_stack_pipe.predict(stack_test)\n",
        "\n",
        "full_predictions_stack_logreg =  np.where(full_predictions_stack_logreg >= 0.5, 1, 0).astype(int)\n",
        "# get the score\n",
        "full_score_stack_logreg = accuracy_score(full_predictions_stack_logreg, test_binary_y)\n",
        "full_score_stack_logreg"
      ],
      "execution_count": null,
      "outputs": [
        {
          "output_type": "execute_result",
          "data": {
            "text/plain": [
              "0.7956350086501353"
            ]
          },
          "metadata": {
            "tags": []
          },
          "execution_count": 35
        }
      ]
    },
    {
      "cell_type": "code",
      "metadata": {
        "colab": {
          "base_uri": "https://localhost:8080/"
        },
        "id": "T8aKSODGwRCF",
        "outputId": "37a6698b-2aac-4fa4-d778-2f577f6dba19"
      },
      "source": [
        "print(accuracy_score(full_predictions_stack_logreg, test_binary_y))\n",
        "print(precision_score(full_predictions_stack_logreg, test_binary_y))\n",
        "print(recall_score(full_predictions_stack_logreg, test_binary_y))\n",
        "print(f1_score(full_predictions_stack_logreg, test_binary_y))"
      ],
      "execution_count": null,
      "outputs": [
        {
          "output_type": "stream",
          "text": [
            "0.7956350086501353\n",
            "0.7210099750623441\n",
            "0.9000875571553653\n",
            "0.8006576954696898\n"
          ],
          "name": "stdout"
        }
      ]
    },
    {
      "cell_type": "code",
      "metadata": {
        "colab": {
          "base_uri": "https://localhost:8080/"
        },
        "id": "SGDdgd4F2PjU",
        "outputId": "da3aeaa5-d17d-40f8-de9b-36389d90b70c"
      },
      "source": [
        "# model for the binary classification\n",
        "RF_stack = RandomForestClassifier(n_estimators=10, criterion='entropy', max_features='auto', bootstrap=True, random_state=10)\n",
        "\n",
        "RF_stack.fit(stack_train_LR_SVM, train_y_sub2)\n",
        "\n",
        "stack_test_LR = pd.DataFrame(full_predictions_logreg_proba)\n",
        "stack_test_SVM = pd.DataFrame(full_prediction_svm_proba)\n",
        "\n",
        "stack_test = pd.concat([stack_test_LR, stack_test_SVM], axis = 1)\n",
        "\n",
        "# model for the binary classificationstack_test\n",
        "full_predictions_stack_RF = RF_stack.predict(stack_test)\n",
        "\n",
        "# get the score\n",
        "full_score_stack_RF = accuracy_score(full_predictions_stack_RF, test_binary_y)\n",
        "full_score_stack_RF"
      ],
      "execution_count": null,
      "outputs": [
        {
          "output_type": "execute_result",
          "data": {
            "text/plain": [
              "0.8124916825622145"
            ]
          },
          "metadata": {
            "tags": []
          },
          "execution_count": 39
        }
      ]
    },
    {
      "cell_type": "code",
      "metadata": {
        "colab": {
          "base_uri": "https://localhost:8080/"
        },
        "id": "YyprguxJwjFA",
        "outputId": "3c84cdc9-1820-4755-e136-d28a2726b31a"
      },
      "source": [
        "print(accuracy_score(full_predictions_stack_RF, test_binary_y))\n",
        "print(precision_score(full_predictions_stack_RF, test_binary_y))\n",
        "print(recall_score(full_predictions_stack_RF, test_binary_y))\n",
        "print(f1_score(full_predictions_stack_RF, test_binary_y))"
      ],
      "execution_count": null,
      "outputs": [
        {
          "output_type": "stream",
          "text": [
            "0.8124916825622145\n",
            "0.7353491271820449\n",
            "0.9190610694457972\n",
            "0.8170050651543357\n"
          ],
          "name": "stdout"
        }
      ]
    },
    {
      "cell_type": "markdown",
      "metadata": {
        "id": "Vl1a2wCvNfjQ"
      },
      "source": [
        "## Bagging"
      ]
    },
    {
      "cell_type": "markdown",
      "metadata": {
        "id": "TwiZE1vMdV8F"
      },
      "source": [
        "Another approach to get a diverse set of classifiers is to use the same training algorithm for every predictor, but to train them on different random subsets of the training set. This method is called bootstrap aggregating (bagging)."
      ]
    },
    {
      "cell_type": "code",
      "metadata": {
        "colab": {
          "base_uri": "https://localhost:8080/"
        },
        "id": "80w3i3wYJuy2",
        "outputId": "d3224545-a92d-4fc9-8cbd-0d141d7cdc65"
      },
      "source": [
        "RF = RandomForestClassifier(n_estimators=10, criterion='entropy', max_features='auto', bootstrap=True, random_state=10)\n",
        "RF.fit(train_X_lab, binary_y)\n",
        "RF_feature = RF.feature_importances_\n",
        "#RF_feature\n",
        "\n",
        "full_RF_prediction = RF.predict(test_lab)\n",
        "full_score_RF = accuracy_score(full_RF_prediction, test_binary_y)\n",
        "\n",
        "full_score_RF"
      ],
      "execution_count": null,
      "outputs": [
        {
          "output_type": "execute_result",
          "data": {
            "text/plain": [
              "0.8187463957769596"
            ]
          },
          "metadata": {
            "tags": []
          },
          "execution_count": 43
        }
      ]
    },
    {
      "cell_type": "code",
      "metadata": {
        "colab": {
          "base_uri": "https://localhost:8080/"
        },
        "id": "JQ-8G9RaxDB_",
        "outputId": "65d1ed25-b8a5-4316-f27c-7dae3439a0bb"
      },
      "source": [
        "print(accuracy_score(full_RF_prediction, test_binary_y))\n",
        "print(precision_score(full_RF_prediction, test_binary_y))\n",
        "print(recall_score(full_RF_prediction, test_binary_y))\n",
        "print(f1_score(full_RF_prediction, test_binary_y))"
      ],
      "execution_count": null,
      "outputs": [
        {
          "output_type": "stream",
          "text": [
            "0.8187463957769596\n",
            "0.7121259351620948\n",
            "0.9588667366211963\n",
            "0.8172793131204723\n"
          ],
          "name": "stdout"
        }
      ]
    },
    {
      "cell_type": "markdown",
      "metadata": {
        "id": "ay_MIeOZQD7n"
      },
      "source": [
        "## Boosting"
      ]
    },
    {
      "cell_type": "markdown",
      "metadata": {
        "id": "jn8E78PrI1uK"
      },
      "source": [
        "Gradient Boosting works by fitting a new predictor to the residual\n",
        "errors made by the previous predictor."
      ]
    },
    {
      "cell_type": "code",
      "metadata": {
        "colab": {
          "base_uri": "https://localhost:8080/"
        },
        "id": "18EachlqIxNw",
        "outputId": "7332d696-1d1d-4d94-fba7-4abfc57dfc22"
      },
      "source": [
        "GB = GradientBoostingClassifier(loss='deviance', learning_rate=0.1, n_estimators=200, max_features='auto')\n",
        "GB.fit(train_X_lab, binary_y)\n",
        "\n",
        "GB_feature = GB.feature_importances_\n",
        "#GB_feature\n",
        "\n",
        "full_GB_prediction = GB.predict(test_lab)\n",
        "full_score_GB = accuracy_score(full_GB_prediction, test_binary_y)\n",
        "\n",
        "full_score_GB"
      ],
      "execution_count": null,
      "outputs": [
        {
          "output_type": "execute_result",
          "data": {
            "text/plain": [
              "0.8332076476067959"
            ]
          },
          "metadata": {
            "tags": []
          },
          "execution_count": 42
        }
      ]
    },
    {
      "cell_type": "code",
      "metadata": {
        "colab": {
          "base_uri": "https://localhost:8080/"
        },
        "id": "JoiVqoacxI8O",
        "outputId": "30c8770e-bd15-4802-adca-defdf9a12431"
      },
      "source": [
        "print(accuracy_score(full_GB_prediction, test_binary_y))\n",
        "print(precision_score(full_GB_prediction, test_binary_y))\n",
        "print(recall_score(full_GB_prediction, test_binary_y))\n",
        "print(f1_score(full_GB_prediction, test_binary_y))"
      ],
      "execution_count": null,
      "outputs": [
        {
          "output_type": "stream",
          "text": [
            "0.8332076476067959\n",
            "0.7344918952618454\n",
            "0.9638985477602782\n",
            "0.8337019018133569\n"
          ],
          "name": "stdout"
        }
      ]
    },
    {
      "cell_type": "markdown",
      "metadata": {
        "id": "Ei5hqJpjJAWy"
      },
      "source": [
        "The predictors from random forest and gradient boosting models can be further combined to improve performance."
      ]
    },
    {
      "cell_type": "code",
      "metadata": {
        "colab": {
          "base_uri": "https://localhost:8080/"
        },
        "id": "7R5VohxHlNyH",
        "outputId": "b07ede83-c1b0-4fba-fa66-c17f1bdb1284"
      },
      "source": [
        "#simple averaging\n",
        "weighted = GB.predict_proba(test_lab)[:,1]*0.4 + RF.predict_proba(test_lab)[:,1]*0.3 + \\\n",
        "          svm_pipe.predict_proba(test_lab)[:,1]*0.2 + logreg_pipe.predict_proba(test_lab)[:,1]*0.1\n",
        "weighted_bi =  np.where(weighted >= 0.5, 1, 0).astype(int)\n",
        "weighted_score = accuracy_score(weighted_bi, test_binary_y)\n",
        "weighted_score"
      ],
      "execution_count": null,
      "outputs": [
        {
          "output_type": "execute_result",
          "data": {
            "text/plain": [
              "0.8456283546999068"
            ]
          },
          "metadata": {
            "tags": []
          },
          "execution_count": 46
        }
      ]
    },
    {
      "cell_type": "code",
      "metadata": {
        "id": "xePxJGrN89qU",
        "colab": {
          "base_uri": "https://localhost:8080/"
        },
        "outputId": "69afb192-1a53-4ad2-d699-c50fccfd66a7"
      },
      "source": [
        "GB_sub1 = GradientBoostingClassifier(loss='deviance', learning_rate=0.1, n_estimators=200, max_features='auto')\n",
        "GB_sub1.fit(train_X_sub1, train_y_sub1)"
      ],
      "execution_count": null,
      "outputs": [
        {
          "output_type": "execute_result",
          "data": {
            "text/plain": [
              "GradientBoostingClassifier(ccp_alpha=0.0, criterion='friedman_mse', init=None,\n",
              "                           learning_rate=0.1, loss='deviance', max_depth=3,\n",
              "                           max_features='auto', max_leaf_nodes=None,\n",
              "                           min_impurity_decrease=0.0, min_impurity_split=None,\n",
              "                           min_samples_leaf=1, min_samples_split=2,\n",
              "                           min_weight_fraction_leaf=0.0, n_estimators=200,\n",
              "                           n_iter_no_change=None, presort='deprecated',\n",
              "                           random_state=None, subsample=1.0, tol=0.0001,\n",
              "                           validation_fraction=0.1, verbose=0,\n",
              "                           warm_start=False)"
            ]
          },
          "metadata": {
            "tags": []
          },
          "execution_count": 47
        }
      ]
    },
    {
      "cell_type": "code",
      "metadata": {
        "colab": {
          "base_uri": "https://localhost:8080/"
        },
        "id": "KLk65ytF8802",
        "outputId": "c41811d7-bf75-4b3d-936e-cb116a0f7528"
      },
      "source": [
        "RF_sub1 = RandomForestClassifier(n_estimators=10, criterion='entropy', max_features='auto', bootstrap=True, random_state=10)\n",
        "RF_sub1.fit(train_X_sub1, train_y_sub1)"
      ],
      "execution_count": null,
      "outputs": [
        {
          "output_type": "execute_result",
          "data": {
            "text/plain": [
              "RandomForestClassifier(bootstrap=True, ccp_alpha=0.0, class_weight=None,\n",
              "                       criterion='entropy', max_depth=None, max_features='auto',\n",
              "                       max_leaf_nodes=None, max_samples=None,\n",
              "                       min_impurity_decrease=0.0, min_impurity_split=None,\n",
              "                       min_samples_leaf=1, min_samples_split=2,\n",
              "                       min_weight_fraction_leaf=0.0, n_estimators=10,\n",
              "                       n_jobs=None, oob_score=False, random_state=10, verbose=0,\n",
              "                       warm_start=False)"
            ]
          },
          "metadata": {
            "tags": []
          },
          "execution_count": 48
        }
      ]
    },
    {
      "cell_type": "code",
      "metadata": {
        "id": "63v4StVBm-vH"
      },
      "source": [
        "#stacking\n",
        "stack_train_GB = pd.DataFrame(GB_sub1.predict_proba(train_X_sub2)[:,1])\n",
        "stack_train_RF = pd.DataFrame(RF_sub1.predict_proba(train_X_sub2)[:,1])\n",
        "stack_train_all = pd.concat([stack_train_LR, stack_train_SVM, stack_train_GB, stack_train_RF], axis = 1)"
      ],
      "execution_count": null,
      "outputs": []
    },
    {
      "cell_type": "code",
      "metadata": {
        "id": "ZKk5hEyO_h38"
      },
      "source": [
        "full_predictions_GB_proba = GB_sub1.predict_proba(test_lab)[:,1]\n",
        "full_prediction_RF_proba = RF_sub1.predict_proba(test_lab)[:,1]"
      ],
      "execution_count": null,
      "outputs": []
    },
    {
      "cell_type": "code",
      "metadata": {
        "colab": {
          "base_uri": "https://localhost:8080/"
        },
        "id": "wuK7o_813wZ9",
        "outputId": "ddd53112-b38c-4224-e233-b08885ac7a86"
      },
      "source": [
        "# model for the binary classification\n",
        "RF_stack_all = RandomForestClassifier(n_estimators=20, criterion='entropy', max_features='auto', bootstrap=True, random_state=10)\n",
        "\n",
        "RF_stack_all.fit(stack_train_all, train_y_sub2)\n",
        "\n",
        "stack_test_GB = pd.DataFrame(full_predictions_GB_proba)\n",
        "stack_test_RF = pd.DataFrame(full_prediction_RF_proba)\n",
        "\n",
        "stack_test = pd.concat([stack_test_LR, stack_test_SVM, stack_test_GB, stack_test_RF], axis = 1)\n",
        "\n",
        "# model for the binary classification\n",
        "full_predictions_stack_RF = RF_stack_all.predict(stack_test)\n",
        "\n",
        "# get the score\n",
        "full_score_stack_RF = accuracy_score(full_predictions_stack_RF, test_binary_y)\n",
        "full_score_stack_RF"
      ],
      "execution_count": null,
      "outputs": [
        {
          "output_type": "execute_result",
          "data": {
            "text/plain": [
              "0.8602670452025019"
            ]
          },
          "metadata": {
            "tags": []
          },
          "execution_count": 51
        }
      ]
    },
    {
      "cell_type": "code",
      "metadata": {
        "colab": {
          "base_uri": "https://localhost:8080/"
        },
        "id": "c9FLB5FHxc9w",
        "outputId": "f78d14be-eaf6-4f54-ffb5-0136c889a38d"
      },
      "source": [
        "print(accuracy_score(full_predictions_stack_RF, test_binary_y))\n",
        "print(precision_score(full_predictions_stack_RF, test_binary_y))\n",
        "print(recall_score(full_predictions_stack_RF, test_binary_y))\n",
        "print(f1_score(full_predictions_stack_RF, test_binary_y))"
      ],
      "execution_count": null,
      "outputs": [
        {
          "output_type": "stream",
          "text": [
            "0.8602670452025019\n",
            "0.7847568578553616\n",
            "0.9628992159112642\n",
            "0.8647488192357236\n"
          ],
          "name": "stdout"
        }
      ]
    },
    {
      "cell_type": "markdown",
      "metadata": {
        "id": "thEyFwV9O8Ci"
      },
      "source": [
        "#**Neural Networks**\n",
        "\n",
        "Advances in neural network related techniques have significantly improved the performance of computer vision and language processing applications. However, neural networks may not outperform decision tree based models for tabular data. Here, neural network models are built to perform the same classification task for intrusion detection to illustrate how several well known techniques can be used to improve the performance of such models.\n",
        "\n",
        "A neural network consists of connected nodes, each node holds a number and each connection holds a weight. Nodes are organised into three layers: input, hidden, and output."
      ]
    },
    {
      "cell_type": "markdown",
      "metadata": {
        "id": "p7QetSaaPIXt"
      },
      "source": [
        "##Forward pass\n",
        "\n",
        "During prediction (i.e., a forward pass), the activations of nodes in layer $i$ is:\n",
        "\n",
        "$\\mathbf{a^i}=\\sigma(\\mathbf{W}\\mathbf{a^{i-1}}+\\mathbf{b})$.\n",
        "\n",
        "$\\mathbf{W}$ is a matrix containing the connection weights of each node in layer $i-1$ to nodes in layer $i$. If layer $i$ has N nodes and layer $i-1$ has M nodes, $\\mathbf{W}$ will be N by M. $\\mathbf{b}$ contains each node's  bias and $\\sigma$ is the activation function (e.g., a sigmoid function)."
      ]
    },
    {
      "cell_type": "markdown",
      "metadata": {
        "id": "oyF1CoRPh9EU"
      },
      "source": [
        "##Backpropagation\n",
        "\n",
        "Backpropagation is the process that trains a neural network. Backpropagation optimises the weights ($\\mathbf{W}$) and biases ($\\mathbf{b}$), allowing the neural network to map training samples to labels based on some loss function."
      ]
    },
    {
      "cell_type": "markdown",
      "metadata": {
        "id": "VTvrUbSarNDN"
      },
      "source": [
        "##Activation Functions\n",
        "\n",
        "Output from each node in hidden layers are scaled by activation functions to between 0 and 1."
      ]
    },
    {
      "cell_type": "markdown",
      "metadata": {
        "id": "XQnPwWbXnOh5"
      },
      "source": [
        "##Embedding for categorical features\n",
        "An embedding is a mapping of a categorical vector in a continuous n-dimensional space, enabling models that capture relationships between categories. "
      ]
    },
    {
      "cell_type": "markdown",
      "metadata": {
        "id": "FfWMC2xrJ6AZ"
      },
      "source": [
        "##Label Smoothing\n",
        "\n",
        "Label Smoothing involves computing cross entropy cost with a weighted mixture of actual targets with the uniform distribution."
      ]
    },
    {
      "cell_type": "code",
      "metadata": {
        "id": "2nQEAiuRKGQQ"
      },
      "source": [
        "def neuralnet_1hot(input_dim=87, output_dim=1):\n",
        "  inputs = Input(shape=(input_dim,))\n",
        "  x = BatchNormalization()(inputs)\n",
        "  x = Dense(100, activation='relu')(x)\n",
        "  x = Dropout(0.05)(x)\n",
        "  x = Dense(50, activation='relu')(x)\n",
        "  x = Dropout(0.05)(x)\n",
        "  x = Dense(output_dim,activation='sigmoid')(x)\n",
        "  model = Model(inputs=inputs,outputs=x)\n",
        "  model.compile(optimizer=Adam(),\\\n",
        "                loss=BinaryCrossentropy(),\\\n",
        "                metrics=[tf.keras.metrics.AUC(name = 'auc')])\n",
        "  return model"
      ],
      "execution_count": null,
      "outputs": []
    },
    {
      "cell_type": "code",
      "metadata": {
        "id": "HEW0xX8OSA5T"
      },
      "source": [
        "def neuralnet_emb(label_smth=0.00006, drop=[0.2, 0.2, 0.2, 0.2], dense_num=[64, 32, 128, 32], act='relu'):\n",
        "\n",
        "  #inputs\n",
        "  protocol_type = Input(shape=[1], name=\"protocol_type\")\n",
        "  service = Input(shape=[1], name=\"service\")\n",
        "  flag = Input(shape=[1], name=\"flag\")\n",
        "\n",
        "  duration = Input(shape=[1], name=\"duration\")\n",
        "  src_bytes = Input(shape=[1], name=\"src_bytes\")\n",
        "  dst_bytes = Input(shape=[1], name=\"dst_bytes\")\n",
        "\n",
        "  #Embedding layers\n",
        "  emb_protocol_type = Embedding(4, 2)(protocol_type)\n",
        "  emb_service = Embedding(71, 36)(service)\n",
        "  emb_flag = Embedding(12, 6)(flag)\n",
        "\n",
        "  concat_emb1 = concatenate([\n",
        "        Flatten() (emb_protocol_type),\n",
        "        Flatten() (emb_service),\n",
        "        Flatten() (emb_flag)\n",
        "  ])\n",
        "\n",
        "  categ = Dropout(drop[0])(Dense(dense_num[0],activation=act) (concat_emb1))\n",
        "  categ = BatchNormalization()(categ)\n",
        "  categ = Dropout(drop[1])(Dense(dense_num[1],activation=act) (categ))\n",
        "\n",
        "  main_l = concatenate([categ, duration, src_bytes, dst_bytes])\n",
        "  \n",
        "  main_l = Dropout(drop[2])(Dense(dense_num[2],activation=act) (main_l))\n",
        "  main_l = BatchNormalization()(main_l)\n",
        "  x = Dropout(drop[3])(Dense(dense_num[3], activation=act)(main_l))\n",
        "  x = Dense(1,activation='sigmoid')(x)\n",
        "  model = Model([protocol_type, service, flag, duration, src_bytes, dst_bytes],x)\n",
        "\n",
        "  if label_smth == 0:\n",
        "    model.compile(optimizer=Adam(),\\\n",
        "                loss=BinaryCrossentropy(),\\\n",
        "                metrics=[tf.keras.metrics.AUC(name = 'auc')])\n",
        "\n",
        "  else:\n",
        "    model.compile(optimizer=Adam(),\\\n",
        "                loss=BinaryCrossentropy(label_smoothing=label_smth),\\\n",
        "                metrics=[tf.keras.metrics.AUC(name = 'auc')])\n",
        "    \n",
        "  return model"
      ],
      "execution_count": null,
      "outputs": []
    },
    {
      "cell_type": "code",
      "metadata": {
        "id": "NUf4CW5HSC4Z"
      },
      "source": [
        "# converting data to format which can be used by Keras\n",
        "def get_keras_data(df, num_cols, cat_cols):\n",
        "    cols = num_cols + cat_cols\n",
        "\n",
        "    X = {col: np.array(df[col]) for col in cols}\n",
        "    \n",
        "    return X"
      ],
      "execution_count": null,
      "outputs": []
    },
    {
      "cell_type": "code",
      "metadata": {
        "id": "cgTWrKRRSXQi"
      },
      "source": [
        "Xt = get_keras_data(train_X_lab, numeric_features, features_to_encode)\n",
        "Xt_test = get_keras_data(test_lab, numeric_features, features_to_encode)"
      ],
      "execution_count": null,
      "outputs": []
    },
    {
      "cell_type": "code",
      "metadata": {
        "colab": {
          "base_uri": "https://localhost:8080/"
        },
        "id": "pjviQtW_Sdmw",
        "outputId": "609c9ef0-67e7-4638-9d32-0408ffdcfa14"
      },
      "source": [
        "emb_ls_result = []\n",
        "emb_result = []\n",
        "onehot_result = []\n",
        "\n",
        "emb_ls_result_p = []\n",
        "emb_result_p = []\n",
        "onehot_result_p = []\n",
        "\n",
        "emb_ls_result_r = []\n",
        "emb_result_r = []\n",
        "onehot_result_r = []\n",
        "\n",
        "emb_ls_result_f = []\n",
        "emb_result_f = []\n",
        "onehot_result_f = []\n",
        "\n",
        "for i in range(40,51):\n",
        "  SEED = i\n",
        "  print(i)\n",
        "  tf.random.set_seed(SEED)\n",
        "  tf.compat.v1.set_random_seed(SEED)\n",
        "  model_nn_emb_ls = neuralnet_emb()\n",
        "  model_nn_emb_ls.fit(Xt,binary_y,epochs=10)\n",
        "\n",
        "  tf.random.set_seed(SEED)\n",
        "  tf.compat.v1.set_random_seed(SEED)\n",
        "  model_nn_emb = neuralnet_emb(label_smth=0)\n",
        "  model_nn_emb.fit(Xt,binary_y,epochs=10)\n",
        "\n",
        "  tf.random.set_seed(SEED)\n",
        "  tf.compat.v1.set_random_seed(SEED)\n",
        "  model_nn_1hot = neuralnet_1hot()\n",
        "  model_nn_1hot.fit(train_X_1hot,binary_y,epochs=10)\n",
        "\n",
        "  full_predictions_nn = model_nn_emb_ls.predict(Xt_test)\n",
        "  full_predictions_nn = np.where(full_predictions_nn >= 0.5, 1, 0).astype(int).flatten()\n",
        "  # get the score\n",
        "  full_score_nn = accuracy_score(full_predictions_nn, test_binary_y)\n",
        "  print(full_score_nn)\n",
        "  emb_ls_result.append(full_score_nn)\n",
        "\n",
        "  emb_ls_result_p.append(precision_score(full_predictions_nn, test_binary_y))\n",
        "  emb_ls_result_r.append(recall_score(full_predictions_nn, test_binary_y))\n",
        "  emb_ls_result_f.append(f1_score(full_predictions_nn, test_binary_y))\n",
        "\n",
        "  full_predictions_nn = model_nn_emb.predict(Xt_test)\n",
        "  full_predictions_nn = np.where(full_predictions_nn >= 0.5, 1, 0).astype(int).flatten()\n",
        "  # get the score\n",
        "  full_score_nn = accuracy_score(full_predictions_nn, test_binary_y)\n",
        "  print(full_score_nn)\n",
        "  emb_result.append(full_score_nn)\n",
        "\n",
        "  emb_result_p.append(precision_score(full_predictions_nn, test_binary_y))\n",
        "  emb_result_r.append(recall_score(full_predictions_nn, test_binary_y))\n",
        "  emb_result_f.append(f1_score(full_predictions_nn, test_binary_y))\n",
        "\n",
        "  full_predictions_nn = model_nn_1hot.predict(test_1hot)\n",
        "  full_predictions_nn = np.where(full_predictions_nn >= 0.5, 1, 0).astype(int).flatten()\n",
        "  # get the score\n",
        "  full_score_nn = accuracy_score(full_predictions_nn, test_binary_y)\n",
        "  print(full_score_nn)\n",
        "  onehot_result.append(full_score_nn)\n",
        "\n",
        "  onehot_result_p.append(precision_score(full_predictions_nn, test_binary_y))\n",
        "  onehot_result_r.append(recall_score(full_predictions_nn, test_binary_y))\n",
        "  onehot_result_f.append(f1_score(full_predictions_nn, test_binary_y))"
      ],
      "execution_count": null,
      "outputs": [
        {
          "output_type": "stream",
          "text": [
            "40\n",
            "Epoch 1/10\n",
            "3937/3937 [==============================] - 15s 3ms/step - loss: 0.1824 - auc: 0.9734\n",
            "Epoch 2/10\n",
            "3937/3937 [==============================] - 13s 3ms/step - loss: 0.0861 - auc: 0.9936\n",
            "Epoch 3/10\n",
            "3937/3937 [==============================] - 13s 3ms/step - loss: 0.0756 - auc: 0.9955\n",
            "Epoch 4/10\n",
            "3937/3937 [==============================] - 14s 3ms/step - loss: 0.0655 - auc: 0.9965\n",
            "Epoch 5/10\n",
            "3937/3937 [==============================] - 13s 3ms/step - loss: 0.0578 - auc: 0.9972\n",
            "Epoch 6/10\n",
            "3937/3937 [==============================] - 13s 3ms/step - loss: 0.0578 - auc: 0.9971\n",
            "Epoch 7/10\n",
            "3937/3937 [==============================] - 13s 3ms/step - loss: 0.0565 - auc: 0.9973\n",
            "Epoch 8/10\n",
            "3937/3937 [==============================] - 13s 3ms/step - loss: 0.0542 - auc: 0.9976\n",
            "Epoch 9/10\n",
            "3937/3937 [==============================] - 14s 3ms/step - loss: 0.0534 - auc: 0.9974\n",
            "Epoch 10/10\n",
            "3937/3937 [==============================] - 13s 3ms/step - loss: 0.0533 - auc: 0.9974\n",
            "Epoch 1/10\n",
            "3937/3937 [==============================] - 16s 3ms/step - loss: 0.1839 - auc: 0.9732\n",
            "Epoch 2/10\n",
            "3937/3937 [==============================] - 14s 3ms/step - loss: 0.0869 - auc: 0.9933\n",
            "Epoch 3/10\n",
            "3937/3937 [==============================] - 13s 3ms/step - loss: 0.0763 - auc: 0.9952\n",
            "Epoch 4/10\n",
            "3937/3937 [==============================] - 13s 3ms/step - loss: 0.0689 - auc: 0.9961\n",
            "Epoch 5/10\n",
            "3937/3937 [==============================] - 13s 3ms/step - loss: 0.0595 - auc: 0.9970\n",
            "Epoch 6/10\n",
            "3937/3937 [==============================] - 13s 3ms/step - loss: 0.0591 - auc: 0.9971\n",
            "Epoch 7/10\n",
            "3937/3937 [==============================] - 13s 3ms/step - loss: 0.0581 - auc: 0.9970\n",
            "Epoch 8/10\n",
            "3937/3937 [==============================] - 13s 3ms/step - loss: 0.0542 - auc: 0.9974\n",
            "Epoch 9/10\n",
            "3937/3937 [==============================] - 13s 3ms/step - loss: 0.0541 - auc: 0.9975\n",
            "Epoch 10/10\n",
            "3937/3937 [==============================] - 13s 3ms/step - loss: 0.0530 - auc: 0.9973\n",
            "Epoch 1/10\n",
            "3937/3937 [==============================] - 10s 2ms/step - loss: 0.1279 - auc: 0.9887\n",
            "Epoch 2/10\n",
            "3937/3937 [==============================] - 10s 3ms/step - loss: 0.0878 - auc: 0.9946\n",
            "Epoch 3/10\n",
            "3937/3937 [==============================] - 10s 3ms/step - loss: 0.0867 - auc: 0.9947\n",
            "Epoch 4/10\n",
            "3937/3937 [==============================] - 10s 3ms/step - loss: 0.0849 - auc: 0.9949\n",
            "Epoch 5/10\n",
            "3937/3937 [==============================] - 10s 2ms/step - loss: 0.0837 - auc: 0.9949\n",
            "Epoch 6/10\n",
            "3937/3937 [==============================] - 10s 2ms/step - loss: 0.0821 - auc: 0.9953\n",
            "Epoch 7/10\n",
            "3937/3937 [==============================] - 10s 3ms/step - loss: 0.0812 - auc: 0.9953\n",
            "Epoch 8/10\n",
            "3937/3937 [==============================] - 9s 2ms/step - loss: 0.0813 - auc: 0.9952\n",
            "Epoch 9/10\n",
            "3937/3937 [==============================] - 10s 3ms/step - loss: 0.0790 - auc: 0.9955\n",
            "Epoch 10/10\n",
            "3937/3937 [==============================] - 10s 3ms/step - loss: 0.0784 - auc: 0.9957\n",
            "0.8018010025285011\n",
            "0.7763385529876237\n",
            "0.7820609501840926\n",
            "41\n",
            "Epoch 1/10\n",
            "3937/3937 [==============================] - 15s 3ms/step - loss: 0.1810 - auc: 0.9753\n",
            "Epoch 2/10\n",
            "3937/3937 [==============================] - 13s 3ms/step - loss: 0.0887 - auc: 0.9934\n",
            "Epoch 3/10\n",
            "3937/3937 [==============================] - 14s 3ms/step - loss: 0.0719 - auc: 0.9952\n",
            "Epoch 4/10\n",
            "3937/3937 [==============================] - 14s 4ms/step - loss: 0.0629 - auc: 0.9965\n",
            "Epoch 5/10\n",
            "3937/3937 [==============================] - 15s 4ms/step - loss: 0.0592 - auc: 0.9969\n",
            "Epoch 6/10\n",
            "3937/3937 [==============================] - 16s 4ms/step - loss: 0.0584 - auc: 0.9970\n",
            "Epoch 7/10\n",
            "3937/3937 [==============================] - 16s 4ms/step - loss: 0.0569 - auc: 0.9972\n",
            "Epoch 8/10\n",
            "3937/3937 [==============================] - 15s 4ms/step - loss: 0.0527 - auc: 0.9976\n",
            "Epoch 9/10\n",
            "3937/3937 [==============================] - 14s 4ms/step - loss: 0.0545 - auc: 0.9973\n",
            "Epoch 10/10\n",
            "3937/3937 [==============================] - 13s 3ms/step - loss: 0.0519 - auc: 0.9976\n",
            "Epoch 1/10\n",
            "3937/3937 [==============================] - 15s 3ms/step - loss: 0.1766 - auc: 0.9759\n",
            "Epoch 2/10\n",
            "3937/3937 [==============================] - 13s 3ms/step - loss: 0.0909 - auc: 0.9930\n",
            "Epoch 3/10\n",
            "3937/3937 [==============================] - 13s 3ms/step - loss: 0.0804 - auc: 0.9942\n",
            "Epoch 4/10\n",
            "3937/3937 [==============================] - 14s 4ms/step - loss: 0.0682 - auc: 0.9960\n",
            "Epoch 5/10\n",
            "3937/3937 [==============================] - 14s 3ms/step - loss: 0.0621 - auc: 0.9966\n",
            "Epoch 6/10\n",
            "3937/3937 [==============================] - 14s 3ms/step - loss: 0.0610 - auc: 0.9968\n",
            "Epoch 7/10\n",
            "3937/3937 [==============================] - 13s 3ms/step - loss: 0.0574 - auc: 0.9970\n",
            "Epoch 8/10\n",
            "3937/3937 [==============================] - 13s 3ms/step - loss: 0.0543 - auc: 0.9975\n",
            "Epoch 9/10\n",
            "3937/3937 [==============================] - 14s 4ms/step - loss: 0.0553 - auc: 0.9972\n",
            "Epoch 10/10\n",
            "3937/3937 [==============================] - 13s 3ms/step - loss: 0.0530 - auc: 0.9976\n",
            "Epoch 1/10\n",
            "3937/3937 [==============================] - 10s 2ms/step - loss: 0.1288 - auc: 0.9875\n",
            "Epoch 2/10\n",
            "3937/3937 [==============================] - 11s 3ms/step - loss: 0.0911 - auc: 0.9941\n",
            "Epoch 3/10\n",
            "3937/3937 [==============================] - 10s 3ms/step - loss: 0.0864 - auc: 0.9945\n",
            "Epoch 4/10\n",
            "3937/3937 [==============================] - 10s 3ms/step - loss: 0.0846 - auc: 0.9949\n",
            "Epoch 5/10\n",
            "3937/3937 [==============================] - 10s 3ms/step - loss: 0.0819 - auc: 0.9951\n",
            "Epoch 6/10\n",
            "3937/3937 [==============================] - 10s 3ms/step - loss: 0.0828 - auc: 0.9951\n",
            "Epoch 7/10\n",
            "3937/3937 [==============================] - 10s 3ms/step - loss: 0.0800 - auc: 0.9953\n",
            "Epoch 8/10\n",
            "3937/3937 [==============================] - 10s 3ms/step - loss: 0.0796 - auc: 0.9956\n",
            "Epoch 9/10\n",
            "3937/3937 [==============================] - 10s 3ms/step - loss: 0.0810 - auc: 0.9953\n",
            "Epoch 10/10\n",
            "3937/3937 [==============================] - 10s 3ms/step - loss: 0.0799 - auc: 0.9954\n",
            "0.7823271081932307\n",
            "0.7860089606529743\n",
            "0.7905336468083218\n",
            "42\n",
            "Epoch 1/10\n",
            "3937/3937 [==============================] - 16s 3ms/step - loss: 0.1678 - auc: 0.9782\n",
            "Epoch 2/10\n",
            "3937/3937 [==============================] - 15s 4ms/step - loss: 0.0873 - auc: 0.9933\n",
            "Epoch 3/10\n",
            "3937/3937 [==============================] - 13s 3ms/step - loss: 0.0748 - auc: 0.9951\n",
            "Epoch 4/10\n",
            "3937/3937 [==============================] - 13s 3ms/step - loss: 0.0650 - auc: 0.9964\n",
            "Epoch 5/10\n",
            "3937/3937 [==============================] - 13s 3ms/step - loss: 0.0617 - auc: 0.9967\n",
            "Epoch 6/10\n",
            "3937/3937 [==============================] - 14s 3ms/step - loss: 0.0577 - auc: 0.9973\n",
            "Epoch 7/10\n",
            "3937/3937 [==============================] - 14s 4ms/step - loss: 0.0571 - auc: 0.9972\n",
            "Epoch 8/10\n",
            "3937/3937 [==============================] - 14s 4ms/step - loss: 0.0551 - auc: 0.9973\n",
            "Epoch 9/10\n",
            "3937/3937 [==============================] - 14s 4ms/step - loss: 0.0551 - auc: 0.9973\n",
            "Epoch 10/10\n",
            "3937/3937 [==============================] - 14s 3ms/step - loss: 0.0528 - auc: 0.9974\n",
            "Epoch 1/10\n",
            "3937/3937 [==============================] - 15s 3ms/step - loss: 0.1727 - auc: 0.9773\n",
            "Epoch 2/10\n",
            "3937/3937 [==============================] - 13s 3ms/step - loss: 0.0875 - auc: 0.9937\n",
            "Epoch 3/10\n",
            "3937/3937 [==============================] - 14s 3ms/step - loss: 0.0757 - auc: 0.9953\n",
            "Epoch 4/10\n",
            "3937/3937 [==============================] - 13s 3ms/step - loss: 0.0684 - auc: 0.9962\n",
            "Epoch 5/10\n",
            "3937/3937 [==============================] - 14s 3ms/step - loss: 0.0600 - auc: 0.9969\n",
            "Epoch 6/10\n",
            "3937/3937 [==============================] - 14s 3ms/step - loss: 0.0577 - auc: 0.9972\n",
            "Epoch 7/10\n",
            "3937/3937 [==============================] - 13s 3ms/step - loss: 0.0570 - auc: 0.9972\n",
            "Epoch 8/10\n",
            "3937/3937 [==============================] - 13s 3ms/step - loss: 0.0537 - auc: 0.9974\n",
            "Epoch 9/10\n",
            "3937/3937 [==============================] - 13s 3ms/step - loss: 0.0558 - auc: 0.9972\n",
            "Epoch 10/10\n",
            "3937/3937 [==============================] - 12s 3ms/step - loss: 0.0536 - auc: 0.9974\n",
            "Epoch 1/10\n",
            "3937/3937 [==============================] - 10s 2ms/step - loss: 0.1285 - auc: 0.9871\n",
            "Epoch 2/10\n",
            "3937/3937 [==============================] - 9s 2ms/step - loss: 0.0870 - auc: 0.9946\n",
            "Epoch 3/10\n",
            "3937/3937 [==============================] - 9s 2ms/step - loss: 0.0852 - auc: 0.9948\n",
            "Epoch 4/10\n",
            "3937/3937 [==============================] - 9s 2ms/step - loss: 0.0826 - auc: 0.9951\n",
            "Epoch 5/10\n",
            "3937/3937 [==============================] - 9s 2ms/step - loss: 0.0809 - auc: 0.9953\n",
            "Epoch 6/10\n",
            "3937/3937 [==============================] - 9s 2ms/step - loss: 0.0818 - auc: 0.9952\n",
            "Epoch 7/10\n",
            "3937/3937 [==============================] - 9s 2ms/step - loss: 0.0812 - auc: 0.9953\n",
            "Epoch 8/10\n",
            "3937/3937 [==============================] - 9s 2ms/step - loss: 0.0814 - auc: 0.9953\n",
            "Epoch 9/10\n",
            "3937/3937 [==============================] - 9s 2ms/step - loss: 0.0789 - auc: 0.9956\n",
            "Epoch 10/10\n",
            "3937/3937 [==============================] - 9s 2ms/step - loss: 0.0798 - auc: 0.9955\n",
            "0.7972763163731535\n",
            "0.7850330479528013\n",
            "0.7901787694628044\n",
            "43\n",
            "Epoch 1/10\n",
            "3937/3937 [==============================] - 14s 3ms/step - loss: 0.1792 - auc: 0.9741\n",
            "Epoch 2/10\n",
            "3937/3937 [==============================] - 12s 3ms/step - loss: 0.0906 - auc: 0.9932\n",
            "Epoch 3/10\n",
            "3937/3937 [==============================] - 13s 3ms/step - loss: 0.0719 - auc: 0.9959\n",
            "Epoch 4/10\n",
            "3937/3937 [==============================] - 13s 3ms/step - loss: 0.0660 - auc: 0.9964\n",
            "Epoch 5/10\n",
            "3937/3937 [==============================] - 12s 3ms/step - loss: 0.0627 - auc: 0.9967\n",
            "Epoch 6/10\n",
            "3937/3937 [==============================] - 13s 3ms/step - loss: 0.0598 - auc: 0.9968\n",
            "Epoch 7/10\n",
            "3937/3937 [==============================] - 13s 3ms/step - loss: 0.0599 - auc: 0.9969\n",
            "Epoch 8/10\n",
            "3937/3937 [==============================] - 13s 3ms/step - loss: 0.0558 - auc: 0.9973\n",
            "Epoch 9/10\n",
            "3937/3937 [==============================] - 13s 3ms/step - loss: 0.0549 - auc: 0.9974\n",
            "Epoch 10/10\n",
            "3937/3937 [==============================] - 13s 3ms/step - loss: 0.0541 - auc: 0.9974\n",
            "Epoch 1/10\n",
            "3937/3937 [==============================] - 15s 3ms/step - loss: 0.1819 - auc: 0.9735\n",
            "Epoch 2/10\n",
            "3937/3937 [==============================] - 13s 3ms/step - loss: 0.0916 - auc: 0.9927\n",
            "Epoch 3/10\n",
            "3937/3937 [==============================] - 13s 3ms/step - loss: 0.0760 - auc: 0.9953\n",
            "Epoch 4/10\n",
            "3937/3937 [==============================] - 13s 3ms/step - loss: 0.0685 - auc: 0.9960\n",
            "Epoch 5/10\n",
            "3937/3937 [==============================] - 13s 3ms/step - loss: 0.0626 - auc: 0.9966\n",
            "Epoch 6/10\n",
            "3937/3937 [==============================] - 13s 3ms/step - loss: 0.0582 - auc: 0.9971\n",
            "Epoch 7/10\n",
            "3937/3937 [==============================] - 13s 3ms/step - loss: 0.0593 - auc: 0.9969\n",
            "Epoch 8/10\n",
            "3937/3937 [==============================] - 13s 3ms/step - loss: 0.0555 - auc: 0.9974\n",
            "Epoch 9/10\n",
            "3937/3937 [==============================] - 13s 3ms/step - loss: 0.0544 - auc: 0.9973\n",
            "Epoch 10/10\n",
            "3937/3937 [==============================] - 13s 3ms/step - loss: 0.0537 - auc: 0.9974\n",
            "Epoch 1/10\n",
            "3937/3937 [==============================] - 10s 2ms/step - loss: 0.1260 - auc: 0.9880\n",
            "Epoch 2/10\n",
            "3937/3937 [==============================] - 9s 2ms/step - loss: 0.0905 - auc: 0.9941\n",
            "Epoch 3/10\n",
            "3937/3937 [==============================] - 10s 2ms/step - loss: 0.0852 - auc: 0.9948\n",
            "Epoch 4/10\n",
            "3937/3937 [==============================] - 9s 2ms/step - loss: 0.0848 - auc: 0.9950\n",
            "Epoch 5/10\n",
            "3937/3937 [==============================] - 10s 2ms/step - loss: 0.0834 - auc: 0.9950\n",
            "Epoch 6/10\n",
            "3937/3937 [==============================] - 10s 2ms/step - loss: 0.0825 - auc: 0.9951\n",
            "Epoch 7/10\n",
            "3937/3937 [==============================] - 10s 2ms/step - loss: 0.0794 - auc: 0.9955\n",
            "Epoch 8/10\n",
            "3937/3937 [==============================] - 9s 2ms/step - loss: 0.0775 - auc: 0.9957\n",
            "Epoch 9/10\n",
            "3937/3937 [==============================] - 10s 2ms/step - loss: 0.0793 - auc: 0.9955\n",
            "Epoch 10/10\n",
            "3937/3937 [==============================] - 9s 2ms/step - loss: 0.0789 - auc: 0.9956\n",
            "0.7929734285587544\n",
            "0.7976755533868607\n",
            "0.7904005678037528\n",
            "44\n",
            "Epoch 1/10\n",
            "3937/3937 [==============================] - 15s 3ms/step - loss: 0.1846 - auc: 0.9744\n",
            "Epoch 2/10\n",
            "3937/3937 [==============================] - 13s 3ms/step - loss: 0.0919 - auc: 0.9926\n",
            "Epoch 3/10\n",
            "3937/3937 [==============================] - 13s 3ms/step - loss: 0.0754 - auc: 0.9954\n",
            "Epoch 4/10\n",
            "3937/3937 [==============================] - 13s 3ms/step - loss: 0.0688 - auc: 0.9962\n",
            "Epoch 5/10\n",
            "3937/3937 [==============================] - 13s 3ms/step - loss: 0.0635 - auc: 0.9966\n",
            "Epoch 6/10\n",
            "3937/3937 [==============================] - 13s 3ms/step - loss: 0.0613 - auc: 0.9967\n",
            "Epoch 7/10\n",
            "3937/3937 [==============================] - 13s 3ms/step - loss: 0.0590 - auc: 0.9971\n",
            "Epoch 8/10\n",
            "3937/3937 [==============================] - 13s 3ms/step - loss: 0.0554 - auc: 0.9974\n",
            "Epoch 9/10\n",
            "3937/3937 [==============================] - 13s 3ms/step - loss: 0.0567 - auc: 0.9974\n",
            "Epoch 10/10\n",
            "3937/3937 [==============================] - 13s 3ms/step - loss: 0.0539 - auc: 0.9973\n",
            "Epoch 1/10\n",
            "3937/3937 [==============================] - 14s 3ms/step - loss: 0.1844 - auc: 0.9743\n",
            "Epoch 2/10\n",
            "3937/3937 [==============================] - 13s 3ms/step - loss: 0.0901 - auc: 0.9928\n",
            "Epoch 3/10\n",
            "3937/3937 [==============================] - 13s 3ms/step - loss: 0.0746 - auc: 0.9956\n",
            "Epoch 4/10\n",
            "3937/3937 [==============================] - 13s 3ms/step - loss: 0.0685 - auc: 0.9961\n",
            "Epoch 5/10\n",
            "3937/3937 [==============================] - 13s 3ms/step - loss: 0.0638 - auc: 0.9964\n",
            "Epoch 6/10\n",
            "3937/3937 [==============================] - 13s 3ms/step - loss: 0.0592 - auc: 0.9968\n",
            "Epoch 7/10\n",
            "3937/3937 [==============================] - 13s 3ms/step - loss: 0.0607 - auc: 0.9967\n",
            "Epoch 8/10\n",
            "3937/3937 [==============================] - 13s 3ms/step - loss: 0.0558 - auc: 0.9971\n",
            "Epoch 9/10\n",
            "3937/3937 [==============================] - 14s 3ms/step - loss: 0.0559 - auc: 0.9973\n",
            "Epoch 10/10\n",
            "3937/3937 [==============================] - 13s 3ms/step - loss: 0.0533 - auc: 0.9974\n",
            "Epoch 1/10\n",
            "3937/3937 [==============================] - 10s 2ms/step - loss: 0.1223 - auc: 0.9894\n",
            "Epoch 2/10\n",
            "3937/3937 [==============================] - 9s 2ms/step - loss: 0.0896 - auc: 0.9943\n",
            "Epoch 3/10\n",
            "3937/3937 [==============================] - 9s 2ms/step - loss: 0.0856 - auc: 0.9947\n",
            "Epoch 4/10\n",
            "3937/3937 [==============================] - 9s 2ms/step - loss: 0.0851 - auc: 0.9946\n",
            "Epoch 5/10\n",
            "3937/3937 [==============================] - 9s 2ms/step - loss: 0.0821 - auc: 0.9951\n",
            "Epoch 6/10\n",
            "3937/3937 [==============================] - 9s 2ms/step - loss: 0.0806 - auc: 0.9954\n",
            "Epoch 7/10\n",
            "3937/3937 [==============================] - 9s 2ms/step - loss: 0.0824 - auc: 0.9951\n",
            "Epoch 8/10\n",
            "3937/3937 [==============================] - 9s 2ms/step - loss: 0.0799 - auc: 0.9955\n",
            "Epoch 9/10\n",
            "3937/3937 [==============================] - 9s 2ms/step - loss: 0.0811 - auc: 0.9954\n",
            "Epoch 10/10\n",
            "3937/3937 [==============================] - 9s 2ms/step - loss: 0.0798 - auc: 0.9955\n",
            "0.7982965887415162\n",
            "0.7843676529299561\n",
            "0.7845894512709045\n",
            "45\n",
            "Epoch 1/10\n",
            "3937/3937 [==============================] - 15s 3ms/step - loss: 0.1756 - auc: 0.9749\n",
            "Epoch 2/10\n",
            "3937/3937 [==============================] - 13s 3ms/step - loss: 0.0904 - auc: 0.9931\n",
            "Epoch 3/10\n",
            "3937/3937 [==============================] - 13s 3ms/step - loss: 0.0720 - auc: 0.9957\n",
            "Epoch 4/10\n",
            "3937/3937 [==============================] - 13s 3ms/step - loss: 0.0633 - auc: 0.9966\n",
            "Epoch 5/10\n",
            "3937/3937 [==============================] - 13s 3ms/step - loss: 0.0606 - auc: 0.9969\n",
            "Epoch 6/10\n",
            "3937/3937 [==============================] - 13s 3ms/step - loss: 0.0572 - auc: 0.9972\n",
            "Epoch 7/10\n",
            "3937/3937 [==============================] - 13s 3ms/step - loss: 0.0531 - auc: 0.9975\n",
            "Epoch 8/10\n",
            "3937/3937 [==============================] - 13s 3ms/step - loss: 0.0550 - auc: 0.9974\n",
            "Epoch 9/10\n",
            "3937/3937 [==============================] - 13s 3ms/step - loss: 0.0547 - auc: 0.9973\n",
            "Epoch 10/10\n",
            "3937/3937 [==============================] - 13s 3ms/step - loss: 0.0518 - auc: 0.9975\n",
            "Epoch 1/10\n",
            "3937/3937 [==============================] - 15s 3ms/step - loss: 0.1736 - auc: 0.9752\n",
            "Epoch 2/10\n",
            "3937/3937 [==============================] - 13s 3ms/step - loss: 0.0882 - auc: 0.9939\n",
            "Epoch 3/10\n",
            "3937/3937 [==============================] - 13s 3ms/step - loss: 0.0753 - auc: 0.9954\n",
            "Epoch 4/10\n",
            "3937/3937 [==============================] - 13s 3ms/step - loss: 0.0657 - auc: 0.9964\n",
            "Epoch 5/10\n",
            "3937/3937 [==============================] - 14s 4ms/step - loss: 0.0596 - auc: 0.9970\n",
            "Epoch 6/10\n",
            "3937/3937 [==============================] - 14s 3ms/step - loss: 0.0570 - auc: 0.9972\n",
            "Epoch 7/10\n",
            "3937/3937 [==============================] - 13s 3ms/step - loss: 0.0542 - auc: 0.9975\n",
            "Epoch 8/10\n",
            "3937/3937 [==============================] - 13s 3ms/step - loss: 0.0560 - auc: 0.9972\n",
            "Epoch 9/10\n",
            "3937/3937 [==============================] - 13s 3ms/step - loss: 0.0546 - auc: 0.9973\n",
            "Epoch 10/10\n",
            "3937/3937 [==============================] - 13s 3ms/step - loss: 0.0507 - auc: 0.9977\n",
            "Epoch 1/10\n",
            "3937/3937 [==============================] - 10s 2ms/step - loss: 0.1230 - auc: 0.9893\n",
            "Epoch 2/10\n",
            "3937/3937 [==============================] - 10s 2ms/step - loss: 0.0908 - auc: 0.9941\n",
            "Epoch 3/10\n",
            "3937/3937 [==============================] - 10s 2ms/step - loss: 0.0855 - auc: 0.9948\n",
            "Epoch 4/10\n",
            "3937/3937 [==============================] - 9s 2ms/step - loss: 0.0833 - auc: 0.9950\n",
            "Epoch 5/10\n",
            "3937/3937 [==============================] - 10s 2ms/step - loss: 0.0830 - auc: 0.9949\n",
            "Epoch 6/10\n",
            "3937/3937 [==============================] - 10s 2ms/step - loss: 0.0830 - auc: 0.9950\n",
            "Epoch 7/10\n",
            "3937/3937 [==============================] - 9s 2ms/step - loss: 0.0811 - auc: 0.9953\n",
            "Epoch 8/10\n",
            "3937/3937 [==============================] - 10s 2ms/step - loss: 0.0807 - auc: 0.9954\n",
            "Epoch 9/10\n",
            "3937/3937 [==============================] - 9s 2ms/step - loss: 0.0808 - auc: 0.9953\n",
            "Epoch 10/10\n",
            "3937/3937 [==============================] - 9s 2ms/step - loss: 0.0805 - auc: 0.9953\n",
            "0.8206095018409262\n",
            "0.8010025285010868\n",
            "0.7902231291309941\n",
            "46\n",
            "Epoch 1/10\n",
            "3937/3937 [==============================] - 14s 3ms/step - loss: 0.1902 - auc: 0.9694\n",
            "Epoch 2/10\n",
            "3937/3937 [==============================] - 13s 3ms/step - loss: 0.0868 - auc: 0.9934\n",
            "Epoch 3/10\n",
            "3937/3937 [==============================] - 13s 3ms/step - loss: 0.0755 - auc: 0.9957\n",
            "Epoch 4/10\n",
            "3937/3937 [==============================] - 12s 3ms/step - loss: 0.0643 - auc: 0.9966\n",
            "Epoch 5/10\n",
            "3937/3937 [==============================] - 13s 3ms/step - loss: 0.0623 - auc: 0.9967\n",
            "Epoch 6/10\n",
            "3937/3937 [==============================] - 13s 3ms/step - loss: 0.0585 - auc: 0.9971\n",
            "Epoch 7/10\n",
            "3937/3937 [==============================] - 12s 3ms/step - loss: 0.0555 - auc: 0.9975\n",
            "Epoch 8/10\n",
            "3937/3937 [==============================] - 13s 3ms/step - loss: 0.0559 - auc: 0.9974\n",
            "Epoch 9/10\n",
            "3937/3937 [==============================] - 12s 3ms/step - loss: 0.0534 - auc: 0.9975\n",
            "Epoch 10/10\n",
            "3937/3937 [==============================] - 12s 3ms/step - loss: 0.0536 - auc: 0.9975\n",
            "Epoch 1/10\n",
            "3937/3937 [==============================] - 14s 3ms/step - loss: 0.1875 - auc: 0.9702\n",
            "Epoch 2/10\n",
            "3937/3937 [==============================] - 13s 3ms/step - loss: 0.0873 - auc: 0.9931\n",
            "Epoch 3/10\n",
            "3937/3937 [==============================] - 12s 3ms/step - loss: 0.0749 - auc: 0.9955\n",
            "Epoch 4/10\n",
            "3937/3937 [==============================] - 13s 3ms/step - loss: 0.0638 - auc: 0.9967\n",
            "Epoch 5/10\n",
            "3937/3937 [==============================] - 13s 3ms/step - loss: 0.0631 - auc: 0.9967\n",
            "Epoch 6/10\n",
            "3937/3937 [==============================] - 13s 3ms/step - loss: 0.0587 - auc: 0.9970\n",
            "Epoch 7/10\n",
            "3937/3937 [==============================] - 12s 3ms/step - loss: 0.0563 - auc: 0.9974\n",
            "Epoch 8/10\n",
            "3937/3937 [==============================] - 12s 3ms/step - loss: 0.0555 - auc: 0.9973\n",
            "Epoch 9/10\n",
            "3937/3937 [==============================] - 12s 3ms/step - loss: 0.0547 - auc: 0.9974\n",
            "Epoch 10/10\n",
            "3937/3937 [==============================] - 12s 3ms/step - loss: 0.0548 - auc: 0.9973\n",
            "Epoch 1/10\n",
            "3937/3937 [==============================] - 10s 2ms/step - loss: 0.1278 - auc: 0.9871\n",
            "Epoch 2/10\n",
            "3937/3937 [==============================] - 9s 2ms/step - loss: 0.0876 - auc: 0.9945\n",
            "Epoch 3/10\n",
            "3937/3937 [==============================] - 9s 2ms/step - loss: 0.0859 - auc: 0.9948\n",
            "Epoch 4/10\n",
            "3937/3937 [==============================] - 9s 2ms/step - loss: 0.0813 - auc: 0.9952\n",
            "Epoch 5/10\n",
            "3937/3937 [==============================] - 9s 2ms/step - loss: 0.0829 - auc: 0.9951\n",
            "Epoch 6/10\n",
            "3937/3937 [==============================] - 9s 2ms/step - loss: 0.0816 - auc: 0.9953\n",
            "Epoch 7/10\n",
            "3937/3937 [==============================] - 9s 2ms/step - loss: 0.0802 - auc: 0.9956\n",
            "Epoch 8/10\n",
            "3937/3937 [==============================] - 9s 2ms/step - loss: 0.0790 - auc: 0.9955\n",
            "Epoch 9/10\n",
            "3937/3937 [==============================] - 9s 2ms/step - loss: 0.0783 - auc: 0.9956\n",
            "Epoch 10/10\n",
            "3937/3937 [==============================] - 9s 2ms/step - loss: 0.0793 - auc: 0.9955\n",
            "0.7819722308477133\n",
            "0.7820165905159029\n",
            "0.7899126114536663\n",
            "47\n",
            "Epoch 1/10\n",
            "3937/3937 [==============================] - 14s 3ms/step - loss: 0.1752 - auc: 0.9765\n",
            "Epoch 2/10\n",
            "3937/3937 [==============================] - 12s 3ms/step - loss: 0.0884 - auc: 0.9931\n",
            "Epoch 3/10\n",
            "3937/3937 [==============================] - 12s 3ms/step - loss: 0.0792 - auc: 0.9949\n",
            "Epoch 4/10\n",
            "3937/3937 [==============================] - 13s 3ms/step - loss: 0.0658 - auc: 0.9965\n",
            "Epoch 5/10\n",
            "3937/3937 [==============================] - 12s 3ms/step - loss: 0.0615 - auc: 0.9968\n",
            "Epoch 6/10\n",
            "3937/3937 [==============================] - 12s 3ms/step - loss: 0.0600 - auc: 0.9970\n",
            "Epoch 7/10\n",
            "3937/3937 [==============================] - 12s 3ms/step - loss: 0.0567 - auc: 0.9972\n",
            "Epoch 8/10\n",
            "3937/3937 [==============================] - 12s 3ms/step - loss: 0.0557 - auc: 0.9974\n",
            "Epoch 9/10\n",
            "3937/3937 [==============================] - 13s 3ms/step - loss: 0.0533 - auc: 0.9975\n",
            "Epoch 10/10\n",
            "3937/3937 [==============================] - 13s 3ms/step - loss: 0.0550 - auc: 0.9973\n",
            "Epoch 1/10\n",
            "3937/3937 [==============================] - 15s 3ms/step - loss: 0.1741 - auc: 0.9766\n",
            "Epoch 2/10\n",
            "3937/3937 [==============================] - 13s 3ms/step - loss: 0.0899 - auc: 0.9927\n",
            "Epoch 3/10\n",
            "3937/3937 [==============================] - 13s 3ms/step - loss: 0.0790 - auc: 0.9951\n",
            "Epoch 4/10\n",
            "3937/3937 [==============================] - 13s 3ms/step - loss: 0.0673 - auc: 0.9964\n",
            "Epoch 5/10\n",
            "3937/3937 [==============================] - 13s 3ms/step - loss: 0.0612 - auc: 0.9968\n",
            "Epoch 6/10\n",
            "3937/3937 [==============================] - 13s 3ms/step - loss: 0.0594 - auc: 0.9970\n",
            "Epoch 7/10\n",
            "3937/3937 [==============================] - 13s 3ms/step - loss: 0.0580 - auc: 0.9971\n",
            "Epoch 8/10\n",
            "3937/3937 [==============================] - 13s 3ms/step - loss: 0.0546 - auc: 0.9974\n",
            "Epoch 9/10\n",
            "3937/3937 [==============================] - 13s 3ms/step - loss: 0.0530 - auc: 0.9974\n",
            "Epoch 10/10\n",
            "3937/3937 [==============================] - 13s 3ms/step - loss: 0.0567 - auc: 0.9972\n",
            "Epoch 1/10\n",
            "3937/3937 [==============================] - 10s 2ms/step - loss: 0.1313 - auc: 0.9868\n",
            "Epoch 2/10\n",
            "3937/3937 [==============================] - 9s 2ms/step - loss: 0.0884 - auc: 0.9945\n",
            "Epoch 3/10\n",
            "3937/3937 [==============================] - 9s 2ms/step - loss: 0.0864 - auc: 0.9946\n",
            "Epoch 4/10\n",
            "3937/3937 [==============================] - 9s 2ms/step - loss: 0.0851 - auc: 0.9946\n",
            "Epoch 5/10\n",
            "3937/3937 [==============================] - 9s 2ms/step - loss: 0.0825 - auc: 0.9952\n",
            "Epoch 6/10\n",
            "3937/3937 [==============================] - 9s 2ms/step - loss: 0.0819 - auc: 0.9952\n",
            "Epoch 7/10\n",
            "3937/3937 [==============================] - 9s 2ms/step - loss: 0.0796 - auc: 0.9954\n",
            "Epoch 8/10\n",
            "3937/3937 [==============================] - 9s 2ms/step - loss: 0.0789 - auc: 0.9955\n",
            "Epoch 9/10\n",
            "3937/3937 [==============================] - 9s 2ms/step - loss: 0.0800 - auc: 0.9954\n",
            "Epoch 10/10\n",
            "3937/3937 [==============================] - 9s 2ms/step - loss: 0.0810 - auc: 0.9954\n",
            "0.7985627467506543\n",
            "0.802377678214967\n",
            "0.7854766446346981\n",
            "48\n",
            "Epoch 1/10\n",
            "3937/3937 [==============================] - 14s 3ms/step - loss: 0.1719 - auc: 0.9772\n",
            "Epoch 2/10\n",
            "3937/3937 [==============================] - 13s 3ms/step - loss: 0.0892 - auc: 0.9929\n",
            "Epoch 3/10\n",
            "3937/3937 [==============================] - 13s 3ms/step - loss: 0.0772 - auc: 0.9951\n",
            "Epoch 4/10\n",
            "3937/3937 [==============================] - 13s 3ms/step - loss: 0.0678 - auc: 0.9961\n",
            "Epoch 5/10\n",
            "3937/3937 [==============================] - 13s 3ms/step - loss: 0.0630 - auc: 0.9967\n",
            "Epoch 6/10\n",
            "3937/3937 [==============================] - 13s 3ms/step - loss: 0.0571 - auc: 0.9972\n",
            "Epoch 7/10\n",
            "3937/3937 [==============================] - 13s 3ms/step - loss: 0.0560 - auc: 0.9972\n",
            "Epoch 8/10\n",
            "3937/3937 [==============================] - 13s 3ms/step - loss: 0.0554 - auc: 0.9972\n",
            "Epoch 9/10\n",
            "3937/3937 [==============================] - 13s 3ms/step - loss: 0.0545 - auc: 0.9973\n",
            "Epoch 10/10\n",
            "3937/3937 [==============================] - 13s 3ms/step - loss: 0.0499 - auc: 0.9978\n",
            "Epoch 1/10\n",
            "3937/3937 [==============================] - 14s 3ms/step - loss: 0.1760 - auc: 0.9767\n",
            "Epoch 2/10\n",
            "3937/3937 [==============================] - 13s 3ms/step - loss: 0.0880 - auc: 0.9930\n",
            "Epoch 3/10\n",
            "3937/3937 [==============================] - 13s 3ms/step - loss: 0.0754 - auc: 0.9953\n",
            "Epoch 4/10\n",
            "3937/3937 [==============================] - 13s 3ms/step - loss: 0.0656 - auc: 0.9964\n",
            "Epoch 5/10\n",
            "3937/3937 [==============================] - 13s 3ms/step - loss: 0.0606 - auc: 0.9968\n",
            "Epoch 6/10\n",
            "3937/3937 [==============================] - 13s 3ms/step - loss: 0.0573 - auc: 0.9970\n",
            "Epoch 7/10\n",
            "3937/3937 [==============================] - 13s 3ms/step - loss: 0.0552 - auc: 0.9972\n",
            "Epoch 8/10\n",
            "3937/3937 [==============================] - 13s 3ms/step - loss: 0.0547 - auc: 0.9974\n",
            "Epoch 9/10\n",
            "3937/3937 [==============================] - 13s 3ms/step - loss: 0.0554 - auc: 0.9972\n",
            "Epoch 10/10\n",
            "3937/3937 [==============================] - 12s 3ms/step - loss: 0.0501 - auc: 0.9978\n",
            "Epoch 1/10\n",
            "3937/3937 [==============================] - 10s 2ms/step - loss: 0.1329 - auc: 0.9868\n",
            "Epoch 2/10\n",
            "3937/3937 [==============================] - 9s 2ms/step - loss: 0.0897 - auc: 0.9943\n",
            "Epoch 3/10\n",
            "3937/3937 [==============================] - 9s 2ms/step - loss: 0.0851 - auc: 0.9948\n",
            "Epoch 4/10\n",
            "3937/3937 [==============================] - 9s 2ms/step - loss: 0.0854 - auc: 0.9948\n",
            "Epoch 5/10\n",
            "3937/3937 [==============================] - 9s 2ms/step - loss: 0.0847 - auc: 0.9948\n",
            "Epoch 6/10\n",
            "3937/3937 [==============================] - 9s 2ms/step - loss: 0.0828 - auc: 0.9951\n",
            "Epoch 7/10\n",
            "3937/3937 [==============================] - 9s 2ms/step - loss: 0.0811 - auc: 0.9952\n",
            "Epoch 8/10\n",
            "3937/3937 [==============================] - 9s 2ms/step - loss: 0.0788 - auc: 0.9957\n",
            "Epoch 9/10\n",
            "3937/3937 [==============================] - 9s 2ms/step - loss: 0.0811 - auc: 0.9954\n",
            "Epoch 10/10\n",
            "3937/3937 [==============================] - 9s 2ms/step - loss: 0.0792 - auc: 0.9955\n",
            "0.8136450339351462\n",
            "0.8070354433748835\n",
            "0.7843676529299561\n",
            "49\n",
            "Epoch 1/10\n",
            "3937/3937 [==============================] - 15s 3ms/step - loss: 0.1767 - auc: 0.9743\n",
            "Epoch 2/10\n",
            "3937/3937 [==============================] - 13s 3ms/step - loss: 0.0935 - auc: 0.9924\n",
            "Epoch 3/10\n",
            "3937/3937 [==============================] - 13s 3ms/step - loss: 0.0801 - auc: 0.9947\n",
            "Epoch 4/10\n",
            "3937/3937 [==============================] - 14s 3ms/step - loss: 0.0672 - auc: 0.9963\n",
            "Epoch 5/10\n",
            "3937/3937 [==============================] - 14s 3ms/step - loss: 0.0601 - auc: 0.9970\n",
            "Epoch 6/10\n",
            "3937/3937 [==============================] - 13s 3ms/step - loss: 0.0599 - auc: 0.9970\n",
            "Epoch 7/10\n",
            "3937/3937 [==============================] - 13s 3ms/step - loss: 0.0578 - auc: 0.9971\n",
            "Epoch 8/10\n",
            "3937/3937 [==============================] - 13s 3ms/step - loss: 0.0549 - auc: 0.9975\n",
            "Epoch 9/10\n",
            "3937/3937 [==============================] - 13s 3ms/step - loss: 0.0555 - auc: 0.9972\n",
            "Epoch 10/10\n",
            "3937/3937 [==============================] - 13s 3ms/step - loss: 0.0536 - auc: 0.9975\n",
            "Epoch 1/10\n",
            "3937/3937 [==============================] - 15s 3ms/step - loss: 0.1797 - auc: 0.9736\n",
            "Epoch 2/10\n",
            "3937/3937 [==============================] - 13s 3ms/step - loss: 0.0927 - auc: 0.9921\n",
            "Epoch 3/10\n",
            "3937/3937 [==============================] - 13s 3ms/step - loss: 0.0792 - auc: 0.9947\n",
            "Epoch 4/10\n",
            "3937/3937 [==============================] - 13s 3ms/step - loss: 0.0660 - auc: 0.9964\n",
            "Epoch 5/10\n",
            "3937/3937 [==============================] - 13s 3ms/step - loss: 0.0594 - auc: 0.9968\n",
            "Epoch 6/10\n",
            "3937/3937 [==============================] - 13s 3ms/step - loss: 0.0581 - auc: 0.9970\n",
            "Epoch 7/10\n",
            "3937/3937 [==============================] - 13s 3ms/step - loss: 0.0543 - auc: 0.9973\n",
            "Epoch 8/10\n",
            "3937/3937 [==============================] - 13s 3ms/step - loss: 0.0528 - auc: 0.9976\n",
            "Epoch 9/10\n",
            "3937/3937 [==============================] - 13s 3ms/step - loss: 0.0518 - auc: 0.9975\n",
            "Epoch 10/10\n",
            "3937/3937 [==============================] - 13s 3ms/step - loss: 0.0519 - auc: 0.9976\n",
            "Epoch 1/10\n",
            "3937/3937 [==============================] - 10s 2ms/step - loss: 0.1246 - auc: 0.9888\n",
            "Epoch 2/10\n",
            "3937/3937 [==============================] - 9s 2ms/step - loss: 0.0903 - auc: 0.9941\n",
            "Epoch 3/10\n",
            "3937/3937 [==============================] - 9s 2ms/step - loss: 0.0864 - auc: 0.9946\n",
            "Epoch 4/10\n",
            "3937/3937 [==============================] - 9s 2ms/step - loss: 0.0841 - auc: 0.9950\n",
            "Epoch 5/10\n",
            "3937/3937 [==============================] - 9s 2ms/step - loss: 0.0803 - auc: 0.9954\n",
            "Epoch 6/10\n",
            "3937/3937 [==============================] - 9s 2ms/step - loss: 0.0803 - auc: 0.9954\n",
            "Epoch 7/10\n",
            "3937/3937 [==============================] - 9s 2ms/step - loss: 0.0810 - auc: 0.9953\n",
            "Epoch 8/10\n",
            "3937/3937 [==============================] - 9s 2ms/step - loss: 0.0790 - auc: 0.9956\n",
            "Epoch 9/10\n",
            "3937/3937 [==============================] - 9s 2ms/step - loss: 0.0782 - auc: 0.9957\n",
            "Epoch 10/10\n",
            "3937/3937 [==============================] - 9s 2ms/step - loss: 0.0805 - auc: 0.9955\n",
            "0.8280619260967927\n",
            "0.7992281417734995\n",
            "0.8011799671738455\n",
            "50\n",
            "Epoch 1/10\n",
            "3937/3937 [==============================] - 14s 3ms/step - loss: 0.1847 - auc: 0.9732\n",
            "Epoch 2/10\n",
            "3937/3937 [==============================] - 13s 3ms/step - loss: 0.0900 - auc: 0.9932\n",
            "Epoch 3/10\n",
            "3937/3937 [==============================] - 13s 3ms/step - loss: 0.0746 - auc: 0.9953\n",
            "Epoch 4/10\n",
            "3937/3937 [==============================] - 12s 3ms/step - loss: 0.0650 - auc: 0.9966\n",
            "Epoch 5/10\n",
            "3937/3937 [==============================] - 12s 3ms/step - loss: 0.0612 - auc: 0.9968\n",
            "Epoch 6/10\n",
            "3937/3937 [==============================] - 12s 3ms/step - loss: 0.0584 - auc: 0.9971\n",
            "Epoch 7/10\n",
            "3937/3937 [==============================] - 12s 3ms/step - loss: 0.0558 - auc: 0.9974\n",
            "Epoch 8/10\n",
            "3937/3937 [==============================] - 12s 3ms/step - loss: 0.0561 - auc: 0.9973\n",
            "Epoch 9/10\n",
            "3937/3937 [==============================] - 12s 3ms/step - loss: 0.0526 - auc: 0.9975\n",
            "Epoch 10/10\n",
            "3937/3937 [==============================] - 13s 3ms/step - loss: 0.0532 - auc: 0.9974\n",
            "Epoch 1/10\n",
            "3937/3937 [==============================] - 14s 3ms/step - loss: 0.1827 - auc: 0.9736\n",
            "Epoch 2/10\n",
            "3937/3937 [==============================] - 13s 3ms/step - loss: 0.0906 - auc: 0.9929\n",
            "Epoch 3/10\n",
            "3937/3937 [==============================] - 13s 3ms/step - loss: 0.0753 - auc: 0.9953\n",
            "Epoch 4/10\n",
            "3937/3937 [==============================] - 13s 3ms/step - loss: 0.0647 - auc: 0.9966\n",
            "Epoch 5/10\n",
            "3937/3937 [==============================] - 13s 3ms/step - loss: 0.0597 - auc: 0.9968\n",
            "Epoch 6/10\n",
            "3937/3937 [==============================] - 13s 3ms/step - loss: 0.0557 - auc: 0.9973\n",
            "Epoch 7/10\n",
            "3937/3937 [==============================] - 13s 3ms/step - loss: 0.0558 - auc: 0.9972\n",
            "Epoch 8/10\n",
            "3937/3937 [==============================] - 13s 3ms/step - loss: 0.0559 - auc: 0.9973\n",
            "Epoch 9/10\n",
            "3937/3937 [==============================] - 13s 3ms/step - loss: 0.0531 - auc: 0.9974\n",
            "Epoch 10/10\n",
            "3937/3937 [==============================] - 12s 3ms/step - loss: 0.0527 - auc: 0.9975\n",
            "Epoch 1/10\n",
            "3937/3937 [==============================] - 10s 2ms/step - loss: 0.1255 - auc: 0.9889\n",
            "Epoch 2/10\n",
            "3937/3937 [==============================] - 9s 2ms/step - loss: 0.0897 - auc: 0.9942\n",
            "Epoch 3/10\n",
            "3937/3937 [==============================] - 9s 2ms/step - loss: 0.0844 - auc: 0.9949\n",
            "Epoch 4/10\n",
            "3937/3937 [==============================] - 10s 2ms/step - loss: 0.0841 - auc: 0.9949\n",
            "Epoch 5/10\n",
            "3937/3937 [==============================] - 9s 2ms/step - loss: 0.0808 - auc: 0.9953\n",
            "Epoch 6/10\n",
            "3937/3937 [==============================] - 9s 2ms/step - loss: 0.0804 - auc: 0.9954\n",
            "Epoch 7/10\n",
            "3937/3937 [==============================] - 9s 2ms/step - loss: 0.0805 - auc: 0.9954\n",
            "Epoch 8/10\n",
            "3937/3937 [==============================] - 9s 2ms/step - loss: 0.0809 - auc: 0.9953\n",
            "Epoch 9/10\n",
            "3937/3937 [==============================] - 9s 2ms/step - loss: 0.0796 - auc: 0.9953\n",
            "Epoch 10/10\n",
            "3937/3937 [==============================] - 9s 2ms/step - loss: 0.0802 - auc: 0.9954\n",
            "0.7961673246684114\n",
            "0.8075677593931597\n",
            "0.7904005678037528\n"
          ],
          "name": "stdout"
        }
      ]
    },
    {
      "cell_type": "code",
      "metadata": {
        "colab": {
          "base_uri": "https://localhost:8080/",
          "height": 1000
        },
        "id": "I97VEZSLSZN7",
        "outputId": "c33a6562-7872-42af-eee1-11e45bde3b8d"
      },
      "source": [
        "from keras.utils import plot_model\n",
        "plot_model(model_nn_emb_ls, to_file='model.png')"
      ],
      "execution_count": null,
      "outputs": [
        {
          "output_type": "execute_result",
          "data": {
            "image/png": "[encoded data removed]",
            "text/plain": [
              "<IPython.core.display.Image object>"
            ]
          },
          "metadata": {
            "tags": []
          },
          "execution_count": 58
        }
      ]
    },
    {
      "cell_type": "code",
      "metadata": {
        "colab": {
          "base_uri": "https://localhost:8080/"
        },
        "id": "NFiWO6MZSfX6",
        "outputId": "22f51038-6060-4027-b55c-a2f783f5ca7d"
      },
      "source": [
        "print(np.mean(emb_ls_result))\n",
        "print(np.mean(emb_result))\n",
        "print(np.mean(onehot_result))"
      ],
      "execution_count": null,
      "outputs": [
        {
          "output_type": "stream",
          "text": [
            "0.8010630189577091\n",
            "0.7935138099712469\n",
            "0.7890294507869807\n"
          ],
          "name": "stdout"
        }
      ]
    },
    {
      "cell_type": "code",
      "metadata": {
        "colab": {
          "base_uri": "https://localhost:8080/"
        },
        "id": "S5Cq_8lkZ9oq",
        "outputId": "e86e9192-052b-41c4-b88f-d1e661731d9d"
      },
      "source": [
        "print(np.mean(emb_ls_result_p))\n",
        "print(np.mean(emb_result_p))\n",
        "print(np.mean(onehot_result_p))"
      ],
      "execution_count": null,
      "outputs": [
        {
          "output_type": "stream",
          "text": [
            "0.6988069598730446\n",
            "0.6871882793017456\n",
            "0.6621868623894808\n"
          ],
          "name": "stdout"
        }
      ]
    },
    {
      "cell_type": "code",
      "metadata": {
        "id": "m2MRQpwJaDlb",
        "colab": {
          "base_uri": "https://localhost:8080/"
        },
        "outputId": "2b244809-110e-438c-90c7-98d1ba67d3bc"
      },
      "source": [
        "print(np.mean(emb_ls_result_r))\n",
        "print(np.mean(emb_result_r))\n",
        "print(np.mean(onehot_result_r))"
      ],
      "execution_count": null,
      "outputs": [
        {
          "output_type": "stream",
          "text": [
            "0.9361216568538601\n",
            "0.9328185128675082\n",
            "0.9560313606252797\n"
          ],
          "name": "stdout"
        }
      ]
    },
    {
      "cell_type": "code",
      "metadata": {
        "id": "g4toB-BuTVjP",
        "colab": {
          "base_uri": "https://localhost:8080/"
        },
        "outputId": "2b7619d8-fef3-47f1-8af2-074ef658aa80"
      },
      "source": [
        "print(np.mean(emb_ls_result_f))\n",
        "print(np.mean(emb_result_f))\n",
        "print(np.mean(onehot_result_f))"
      ],
      "execution_count": null,
      "outputs": [
        {
          "output_type": "stream",
          "text": [
            "0.7997204993748143\n",
            "0.7911382156501077\n",
            "0.7812138946360182\n"
          ],
          "name": "stdout"
        }
      ]
    },
    {
      "cell_type": "code",
      "metadata": {
        "id": "8wsmTxtkZ26A"
      },
      "source": [
        ""
      ],
      "execution_count": null,
      "outputs": []
    }
  ]
}